{
 "cells": [
  {
   "cell_type": "markdown",
   "metadata": {},
   "source": [
    "# Homework 2 - Duc Trinh "
   ]
  },
  {
   "cell_type": "code",
   "execution_count": 1,
   "metadata": {},
   "outputs": [],
   "source": [
    "import pandas as pd"
   ]
  },
  {
   "cell_type": "code",
   "execution_count": 2,
   "metadata": {},
   "outputs": [],
   "source": [
    "#BeautifulSoup stuff\n",
    "from urllib.request import urlopen\n",
    "import bs4 "
   ]
  },
  {
   "cell_type": "code",
   "execution_count": 3,
   "metadata": {},
   "outputs": [],
   "source": [
    "import json"
   ]
  },
  {
   "cell_type": "code",
   "execution_count": 4,
   "metadata": {},
   "outputs": [],
   "source": [
    "import seaborn as sns; sns.set()\n",
    "import matplotlib\n",
    "import matplotlib.pyplot as plt\n",
    "%matplotlib inline "
   ]
  },
  {
   "cell_type": "code",
   "execution_count": 5,
   "metadata": {},
   "outputs": [],
   "source": [
    "import pandas as pd"
   ]
  },
  {
   "cell_type": "code",
   "execution_count": 6,
   "metadata": {},
   "outputs": [],
   "source": [
    "from sklearn.tree import DecisionTreeClassifier\n",
    "from sklearn import metrics\n",
    "from sklearn import tree\n",
    "from sklearn.model_selection import train_test_split"
   ]
  },
  {
   "cell_type": "code",
   "execution_count": 7,
   "metadata": {},
   "outputs": [],
   "source": [
    "import numpy as np"
   ]
  },
  {
   "cell_type": "code",
   "execution_count": null,
   "metadata": {},
   "outputs": [],
   "source": [
    "import sys\n",
    "!{sys.executable} -m pip install graphviz\n",
    "import graphviz\n",
    "import os\n",
    "os.environ[\"PATH\"] += os.pathsep + 'C:/Program Files (x86)/Graphviz2.38/bin'"
   ]
  },
  {
   "cell_type": "markdown",
   "metadata": {},
   "source": [
    "## Exercise 1 "
   ]
  },
  {
   "cell_type": "markdown",
   "metadata": {},
   "source": [
    "### a)"
   ]
  },
  {
   "cell_type": "code",
   "execution_count": null,
   "metadata": {},
   "outputs": [],
   "source": [
    "url = 'http://worldcup.sfg.io/matches'\n",
    "data = urlopen(url).read().decode('utf-8')"
   ]
  },
  {
   "cell_type": "code",
   "execution_count": null,
   "metadata": {},
   "outputs": [],
   "source": [
    "worldCup = json.loads(data)"
   ]
  },
  {
   "cell_type": "code",
   "execution_count": null,
   "metadata": {},
   "outputs": [],
   "source": [
    "len(worldCup)"
   ]
  },
  {
   "cell_type": "markdown",
   "metadata": {},
   "source": [
    "The number of matches played in the World Cup is the length of the list of dictionary we retrieved, which is 52."
   ]
  },
  {
   "cell_type": "markdown",
   "metadata": {},
   "source": [
    "### b)"
   ]
  },
  {
   "cell_type": "code",
   "execution_count": null,
   "metadata": {},
   "outputs": [],
   "source": [
    "for match in worldCup:\n",
    "    print(match['home_team_country'] + \" - \" + match['away_team_country'] + \" \" + str(match['home_team']['goals']) + \":\" + str(match['away_team']['goals']))"
   ]
  },
  {
   "cell_type": "markdown",
   "metadata": {},
   "source": [
    "### c)"
   ]
  },
  {
   "cell_type": "code",
   "execution_count": null,
   "metadata": {},
   "outputs": [],
   "source": [
    "keys = ['fifa_id', 'location', 'datetime', 'home_team_country', 'away_team_country', 'winner', 'home_team_statistics', 'away_team_statistics']"
   ]
  },
  {
   "cell_type": "code",
   "execution_count": null,
   "metadata": {},
   "outputs": [],
   "source": [
    "matches = [[match[i] for i in keys] for match in worldCup] "
   ]
  },
  {
   "cell_type": "code",
   "execution_count": null,
   "metadata": {},
   "outputs": [],
   "source": [
    "matchesFrame = pd.DataFrame(matches, columns= keys)\n",
    "matchesFrame.head(5)"
   ]
  },
  {
   "cell_type": "code",
   "execution_count": null,
   "metadata": {},
   "outputs": [],
   "source": [
    "matchesFrame[\"date\"] = pd.DatetimeIndex(data = matchesFrame[\"datetime\"]).date\n",
    "temp = pd.Series(np.datetime_as_string(pd.DatetimeIndex(data = matchesFrame[\"datetime\"]), unit = \"m\"))\n",
    "matchesFrame[\"time\"] =  \"(\" + temp.str[-5:-3].values + \",\" + temp.str[-2:].values + \")\"\n",
    "matchesFrame = matchesFrame.drop(\"datetime\",axis=1)\n",
    "matchesFrame.head(5)"
   ]
  },
  {
   "cell_type": "markdown",
   "metadata": {},
   "source": [
    "Source cited for splicing numpy array of strings: https://stackoverflow.com/questions/39042214/how-can-i-slice-each-element-of-a-numpy-array-of-strings"
   ]
  },
  {
   "cell_type": "markdown",
   "metadata": {},
   "source": [
    "### d)"
   ]
  },
  {
   "cell_type": "code",
   "execution_count": null,
   "metadata": {},
   "outputs": [],
   "source": [
    "stadiumDict = {}\n",
    "for loc in matchesFrame[\"location\"]:\n",
    "    if loc not in stadiumDict:\n",
    "        stadiumDict[loc] = 1\n",
    "    else:\n",
    "        stadiumDict[loc] += 1\n",
    "print(stadiumDict)"
   ]
  },
  {
   "cell_type": "code",
   "execution_count": null,
   "metadata": {
    "scrolled": false
   },
   "outputs": [],
   "source": [
    "stadiumFrame = pd.DataFrame.from_records(data = list(stadiumDict.items()), columns = [\"City\",\"Count\"])\n",
    "_ = stadiumFrame.plot.pie(y = \"Count\", figsize=(8,8), labels = stadiumFrame[\"City\"], autopct=lambda x: '{:.0f}'.format(x * sum(stadiumFrame[\"Count\"]) / 100), title = \"Matches per stadium in the Women's Soccer World Cup\", legend = 0, fontsize = 16)"
   ]
  },
  {
   "cell_type": "markdown",
   "metadata": {},
   "source": [
    "Source used to show the wedge's value: https://stackoverflow.com/questions/14171021/matplotlib-pie-chart-how-to-replace-auto-labelled-relative-values-by-absolute-v"
   ]
  },
  {
   "cell_type": "markdown",
   "metadata": {},
   "source": [
    "### e)"
   ]
  },
  {
   "cell_type": "code",
   "execution_count": null,
   "metadata": {},
   "outputs": [],
   "source": [
    "keys2 = ['ball_possession', 'attempts_on_goal', 'pass_accuracy']"
   ]
  },
  {
   "cell_type": "code",
   "execution_count": null,
   "metadata": {},
   "outputs": [],
   "source": [
    "teamData = [[homeTeam[i] for i in keys2] for homeTeam in list(matchesFrame[\"home_team_statistics\"])]\n",
    "teamData += [[awayTeam[i] for i in keys2] for awayTeam in list(matchesFrame[\"away_team_statistics\"])] "
   ]
  },
  {
   "cell_type": "code",
   "execution_count": null,
   "metadata": {},
   "outputs": [],
   "source": [
    "teamFrame = pd.DataFrame(teamData, columns = keys2)\n",
    "teamFrame = teamFrame.rename(columns = {'ball_possession':\"Ball Possession\", 'attempts_on_goal':'Attempts on Goal', 'pass_accuracy':'Pass Accuracy'})"
   ]
  },
  {
   "cell_type": "code",
   "execution_count": null,
   "metadata": {},
   "outputs": [],
   "source": [
    "teamFrame.head(5)"
   ]
  },
  {
   "cell_type": "code",
   "execution_count": null,
   "metadata": {},
   "outputs": [],
   "source": [
    "plt.figure(figsize = (8, 6))\n",
    "plt.title(label = \"Scatterplot of Ball Possession versus Attempts on Goal\", fontsize = 14)\n",
    "_ = sns.scatterplot(x='Ball Possession', y='Attempts on Goal', hue = 'Pass Accuracy', data=teamFrame)"
   ]
  },
  {
   "cell_type": "markdown",
   "metadata": {},
   "source": [
    "From the plot, I can see a positive correlation between ball possession, attempts on goal for a team, and pass accuracy. This correlation makes sense since if a team is more skilled and has more control over the ball, they will have higher pass accuracy which would help them get a higher ball possession. More time with the ball and better pass accuracy will lead allow them more chances and time to attempt a goal which leads to an increases in attempts on goal."
   ]
  },
  {
   "cell_type": "markdown",
   "metadata": {},
   "source": [
    "## Exercise 2"
   ]
  },
  {
   "cell_type": "markdown",
   "metadata": {},
   "source": [
    "### a)"
   ]
  },
  {
   "cell_type": "code",
   "execution_count": null,
   "metadata": {},
   "outputs": [],
   "source": [
    "bank_data = pd.read_csv(\"../Data/bank.csv\", delimiter = \" \", names = ['age', 'sex', 'region', 'income', 'married', 'children', 'car','save_acct', 'current_acct', 'mortgage', 'pep'])\n",
    "bank_data.head(5)"
   ]
  },
  {
   "cell_type": "code",
   "execution_count": null,
   "metadata": {},
   "outputs": [],
   "source": [
    "numeric_data = bank_data.replace(['NO', 'YES', 'MALE', 'FEMALE'],[0,1,0,1])\n",
    "numeric_data = numeric_data.values\n",
    "\n",
    "features = np.zeros((len(numeric_data),4))\n",
    "numeric_data = np.append(numeric_data,features,1)\n",
    "j = 2\n",
    "for i in range(len(numeric_data)):\n",
    "    if numeric_data[i][j] == 'INNER_CITY':\n",
    "        numeric_data[i][11:15] = [1,0,0,0]\n",
    "    if numeric_data[i][j] == 'TOWN':\n",
    "         numeric_data[i][11:15] = [0,1,0,0]\n",
    "    if numeric_data[i][j] == 'RURAL':\n",
    "         numeric_data[i][11:15] = [0,0,1,0]\n",
    "    if numeric_data[i][j] == 'SUBURBAN':\n",
    "         numeric_data[i][11:15] = [0,0,0,1]        \n",
    "#remove redundant column\n",
    "numeric_data = np.delete(numeric_data, 2, 1)\n",
    "numeric_data.astype(float)\n",
    "\n",
    "bank_labels = numeric_data[:, 9].astype(int)\n",
    "bank_attrs  = np.delete(numeric_data, 9, 1)"
   ]
  },
  {
   "cell_type": "code",
   "execution_count": null,
   "metadata": {},
   "outputs": [],
   "source": [
    "bank_features_train, bank_features_test, bank_labels_train, bank_labels_test = train_test_split(bank_attrs, bank_labels, test_size=0.33, random_state=42)"
   ]
  },
  {
   "cell_type": "code",
   "execution_count": null,
   "metadata": {},
   "outputs": [],
   "source": [
    "decisionTree = DecisionTreeClassifier(max_depth = 6)\n",
    "decisionTree.fit(bank_features_train, bank_labels_train)"
   ]
  },
  {
   "cell_type": "code",
   "execution_count": null,
   "metadata": {},
   "outputs": [],
   "source": [
    "predictions_test = decisionTree.predict(bank_features_test)"
   ]
  },
  {
   "cell_type": "code",
   "execution_count": null,
   "metadata": {},
   "outputs": [],
   "source": [
    "cm = metrics.confusion_matrix(bank_labels_test,predictions_test)\n",
    "print(cm)"
   ]
  },
  {
   "cell_type": "code",
   "execution_count": null,
   "metadata": {},
   "outputs": [],
   "source": [
    "print(\"Precision: \", metrics.precision_score(bank_labels_test,predictions_test))\n",
    "print(\"Recall: \", metrics.recall_score(bank_labels_test,predictions_test))\n",
    "print(\"Accuracy: \", metrics.accuracy_score(bank_labels_test,predictions_test))"
   ]
  },
  {
   "cell_type": "markdown",
   "metadata": {},
   "source": [
    "### b) "
   ]
  },
  {
   "cell_type": "code",
   "execution_count": null,
   "metadata": {},
   "outputs": [],
   "source": [
    "tree1_prob = decisionTree.predict_proba(bank_features_test)\n",
    "fpr, tpr, thresholds = metrics.roc_curve(bank_labels_test, tree1_prob[:,1], pos_label=1, sample_weight=None)"
   ]
  },
  {
   "cell_type": "code",
   "execution_count": null,
   "metadata": {},
   "outputs": [],
   "source": [
    "metrics.roc_auc_score(bank_labels_test,tree1_prob[:,1], average='macro', sample_weight=None)"
   ]
  },
  {
   "cell_type": "code",
   "execution_count": null,
   "metadata": {},
   "outputs": [],
   "source": [
    "decisionTree2 = DecisionTreeClassifier(max_depth = 10, splitter = \"random\")\n",
    "decisionTree2.fit(bank_features_train, bank_labels_train)\n",
    "tree2_prob = decisionTree2.predict_proba(bank_features_test)\n",
    "fpr2, tpr2, thresholds2 = metrics.roc_curve(bank_labels_test, tree2_prob[:,1], pos_label=1, sample_weight=None)"
   ]
  },
  {
   "cell_type": "code",
   "execution_count": null,
   "metadata": {},
   "outputs": [],
   "source": [
    "metrics.roc_auc_score(bank_labels_test,tree2_prob[:,1], average='macro', sample_weight=None)"
   ]
  },
  {
   "cell_type": "code",
   "execution_count": null,
   "metadata": {},
   "outputs": [],
   "source": [
    "plt.figure(figsize=(6,6))\n",
    "plt.plot(fpr,tpr,'-r',linewidth=2.0, label = \"First decision tree ROC curve\")\n",
    "straightLine = np.linspace(0,1,100)\n",
    "plt.plot(straightLine, straightLine, '--k', linewidth=2.0, label = \"y=x line\")\n",
    "plt.plot(fpr2,tpr2,'-b',linewidth=2.0, label = \"Second decision tree ROC curve\")\n",
    "plt.xlabel('False positive rate', fontsize = 14)\n",
    "plt.ylabel('True positive rate',fontsize = 14)\n",
    "plt.legend(loc='lower right', fontsize = 14)\n",
    "plt.suptitle('ROC curves for different models', fontsize=14)\n",
    "plt.xlim([0,1])\n",
    "plt.ylim([0,1])"
   ]
  },
  {
   "cell_type": "markdown",
   "metadata": {},
   "source": [
    "### c)"
   ]
  },
  {
   "cell_type": "code",
   "execution_count": null,
   "metadata": {},
   "outputs": [],
   "source": [
    "graphviz.Source(source = tree.export_graphviz(decisionTree))"
   ]
  },
  {
   "cell_type": "code",
   "execution_count": null,
   "metadata": {},
   "outputs": [],
   "source": [
    "#The columns in order are: 'age', 'sex', 'income', 'married', 'children', 'car','save_acct', 'current_acct', 'mortgage', 10:14 is encoding for 'region'"
   ]
  },
  {
   "cell_type": "markdown",
   "metadata": {},
   "source": [
    "We splitted on income first. The usual splitting attributes are: income, children, and age. Note that we are trying to predict PEP (whether the person bought a Personal Equity Plan after the last mailing). \n",
    "\n",
    "I think that these results show the important things to focus on if the bank is trying to get more people to purchase their PEP. Since this is a financial decision, I was not suprised to see \"income\" was the attribute being used the most as well as it being the first split in the tree. Number of children being the second most splitted attributes along with the fact that the marriage status attribute was also being used quite frequently combined together suggest that this is also something to look out for. Perharps people who have to support their family will look more into personal investment hence having a higher chance of purchasing PEP. The attribute age also being a common one might be suggesting an investing pattern (maybe old people tend to be more financially responsible and the fact that they actually have money to invest will lead to them purchasing more PEP?)."
   ]
  }
 ],
 "metadata": {
  "kernelspec": {
   "display_name": "Python 3",
   "language": "python",
   "name": "python3"
  },
  "language_info": {
   "codemirror_mode": {
    "name": "ipython",
    "version": 3
   },
   "file_extension": ".py",
   "mimetype": "text/x-python",
   "name": "python",
   "nbconvert_exporter": "python",
   "pygments_lexer": "ipython3",
   "version": "3.7.4"
  }
 },
 "nbformat": 4,
 "nbformat_minor": 2
}
