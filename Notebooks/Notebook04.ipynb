{
 "cells": [
  {
   "cell_type": "markdown",
   "metadata": {
    "colab_type": "text",
    "id": "KD4lQW-YM-1Z"
   },
   "source": [
    "# Data Science"
   ]
  },
  {
   "cell_type": "markdown",
   "metadata": {
    "colab_type": "text",
    "id": "h-DjuERLM-1b"
   },
   "source": [
    "## Notebook 4 (Character recognition with Keras)"
   ]
  },
  {
   "cell_type": "markdown",
   "metadata": {
    "colab_type": "text",
    "id": "aZJykseoM-1c"
   },
   "source": [
    "### Character recoginition with Keras"
   ]
  },
  {
   "cell_type": "markdown",
   "metadata": {
    "colab_type": "text",
    "id": "U0B-8Eb2M-1e"
   },
   "source": [
    "(Thnaks to Róbert Pálovics)"
   ]
  },
  {
   "cell_type": "code",
   "execution_count": 1,
   "metadata": {
    "colab": {
     "base_uri": "https://localhost:8080/",
     "height": 51
    },
    "colab_type": "code",
    "id": "_1qwStx4M-1f",
    "outputId": "33c25545-add8-4bf5-f2c4-ba450037ead3"
   },
   "outputs": [],
   "source": [
    "from IPython.core.display import HTML\n",
    "HTML(\"<style>.container { width:100% !important; }</style>\")\n",
    "%matplotlib inline\n",
    "import matplotlib.pyplot as plt\n",
    "import seaborn as sns\n",
    "from PIL import Image\n",
    "from PIL import ImageOps\n",
    "import numpy as np\n",
    "from matplotlib.pyplot import imshow\n",
    "sns.set(font=\"Droid Sans\",font_scale = 2)\n",
    "sns.set_style(\"white\")\n",
    "sns.set_color_codes(\"dark\")"
   ]
  },
  {
   "cell_type": "markdown",
   "metadata": {
    "colab_type": "text",
    "id": "O0q-opYJM-1m"
   },
   "source": [
    "#### MNIST Dataset\n",
    "* Pictures of 28x28 pixels\n",
    "* Possible labels: 0, 1, 2, 3, 4, 5, 6, 7, 8, 9 (multi-class classifcation)\n",
    "* 28x28 = 784 attributes\n",
    "* Trainging data with 60000 records"
   ]
  },
  {
   "cell_type": "code",
   "execution_count": 2,
   "metadata": {
    "colab": {},
    "colab_type": "code",
    "id": "p-3tE54HM-1n"
   },
   "outputs": [
    {
     "ename": "ModuleNotFoundError",
     "evalue": "No module named 'tensorflow'",
     "output_type": "error",
     "traceback": [
      "\u001b[1;31m---------------------------------------------------------------------------\u001b[0m",
      "\u001b[1;31mModuleNotFoundError\u001b[0m                       Traceback (most recent call last)",
      "\u001b[1;32m<ipython-input-2-5cf6999f01c8>\u001b[0m in \u001b[0;36m<module>\u001b[1;34m\u001b[0m\n\u001b[1;32m----> 1\u001b[1;33m \u001b[1;32mfrom\u001b[0m \u001b[0mtensorflow\u001b[0m\u001b[1;33m.\u001b[0m\u001b[0mkeras\u001b[0m\u001b[1;33m.\u001b[0m\u001b[0mdatasets\u001b[0m \u001b[1;32mimport\u001b[0m \u001b[0mmnist\u001b[0m\u001b[1;33m\u001b[0m\u001b[1;33m\u001b[0m\u001b[0m\n\u001b[0m",
      "\u001b[1;31mModuleNotFoundError\u001b[0m: No module named 'tensorflow'"
     ]
    }
   ],
   "source": [
    "from tensorflow.keras.datasets import mnist"
   ]
  },
  {
   "cell_type": "code",
   "execution_count": null,
   "metadata": {
    "colab": {
     "base_uri": "https://localhost:8080/",
     "height": 51
    },
    "colab_type": "code",
    "id": "pSUwX73aM-1v",
    "outputId": "6c6988c3-9650-47b4-b074-aae81b8ccb83"
   },
   "outputs": [],
   "source": [
    "(X_train, y_train), (X_test, y_test) = mnist.load_data()"
   ]
  },
  {
   "cell_type": "code",
   "execution_count": null,
   "metadata": {
    "colab": {
     "base_uri": "https://localhost:8080/",
     "height": 244
    },
    "colab_type": "code",
    "id": "yUwk6f4NM-12",
    "outputId": "1eb8b6e3-91d9-4881-ceae-c170193991f9"
   },
   "outputs": [],
   "source": [
    "plt.figure(figsize=(20,4))\n",
    "for i in range(20):\n",
    "    plt.subplot(2,10,i+1)\n",
    "    plt.axis('off')\n",
    "    plt.imshow(X_train[i], cmap=plt.get_cmap('gray'))"
   ]
  },
  {
   "cell_type": "code",
   "execution_count": null,
   "metadata": {
    "colab": {},
    "colab_type": "code",
    "id": "wh5DvmYiM-19"
   },
   "outputs": [],
   "source": [
    "from tensorflow.keras.utils import to_categorical\n",
    "X_train = X_train.reshape(X_train.shape[0], 1, 28, 28).astype('float32')\n",
    "X_test = X_test.reshape(X_test.shape[0], 1, 28, 28).astype('float32')\n",
    "X_train = X_train / 255\n",
    "X_test = X_test / 255\n",
    "y_train = to_categorical(y_train)\n",
    "y_test = to_categorical(y_test)\n",
    "num_classes = y_test.shape[1]"
   ]
  },
  {
   "cell_type": "markdown",
   "metadata": {
    "colab_type": "text",
    "id": "vuobyVXsM-2E"
   },
   "source": [
    " #### Modeling"
   ]
  },
  {
   "cell_type": "code",
   "execution_count": null,
   "metadata": {
    "colab": {},
    "colab_type": "code",
    "id": "xLrOWJBNM-2G"
   },
   "outputs": [],
   "source": [
    "from tensorflow.keras.datasets import mnist\n",
    "from tensorflow.keras.models import Sequential\n",
    "from tensorflow.keras.layers import Dense, Dropout, Activation, Flatten\n",
    "from tensorflow.keras.optimizers import SGD, Adam, RMSprop, Adagrad\n",
    "from tensorflow.keras.layers import Conv2D\n",
    "from tensorflow.keras.layers import MaxPooling2D"
   ]
  },
  {
   "cell_type": "code",
   "execution_count": null,
   "metadata": {
    "colab": {},
    "colab_type": "code",
    "id": "C764ro_pM-2P"
   },
   "outputs": [],
   "source": [
    "model = Sequential([\n",
    "    Conv2D(32, (5, 5), input_shape=(1, 28, 28), activation='relu', data_format=\"channels_first\"),\n",
    "    MaxPooling2D(pool_size=(2, 2)),\n",
    "    Conv2D(15, (3, 3), activation='relu'),\n",
    "    MaxPooling2D(pool_size=(2, 2)),\n",
    "    Dropout(0.2),\n",
    "    Flatten(),\n",
    "    Dense(128, activation='relu'),\n",
    "    Dense(50, activation='relu'),\n",
    "    Dense(num_classes, activation='softmax')\n",
    "])\n",
    "\n",
    "model.compile(loss='categorical_crossentropy', optimizer='adam', metrics=['accuracy'])"
   ]
  },
  {
   "cell_type": "markdown",
   "metadata": {
    "colab_type": "text",
    "id": "B3kkHRZHM-2U"
   },
   "source": [
    "Further details: http://adventuresinmachinelearning.com/keras-tutorial-cnn-11-lines/"
   ]
  },
  {
   "cell_type": "code",
   "execution_count": null,
   "metadata": {
    "colab": {},
    "colab_type": "code",
    "id": "e70G4HhKM-2V"
   },
   "outputs": [],
   "source": [
    "accuracy = []\n",
    "train_percent = 0.05\n",
    "iter = 20\n",
    "for i in range(iter):\n",
    "    model.fit(X_train[i*int(60000*train_percent):(i+1)*int(60000*train_percent)], y_train[i*int(60000*train_percent):(i+1)*int(60000*train_percent)],batch_size=100, epochs=1,verbose=0, validation_split=0.1)\n",
    "    score = model.evaluate(X_test, y_test, verbose=0)\n",
    "    accuracy.append(score[1])"
   ]
  },
  {
   "cell_type": "code",
   "execution_count": null,
   "metadata": {
    "colab": {
     "base_uri": "https://localhost:8080/",
     "height": 540
    },
    "colab_type": "code",
    "id": "cMfD_RyRM-2a",
    "outputId": "11030d7b-255d-43de-e0db-7fe588cabeb3"
   },
   "outputs": [],
   "source": [
    "X = np.arange(iter)\n",
    "plt.figure(figsize=(15,8))\n",
    "plt.plot(X*int(train_percent*60000),accuracy,\"o-\",label=\"SGD\")\n",
    "plt.legend(loc=4)\n",
    "plt.grid()\n",
    "plt.xlabel(\"number of processed training instances\")\n",
    "plt.ylabel(\"accuracy on the test set\")"
   ]
  },
  {
   "cell_type": "markdown",
   "metadata": {
    "colab_type": "text",
    "id": "o8nKQuCUM-2f"
   },
   "source": [
    "### Testing on own handwritten digits"
   ]
  },
  {
   "cell_type": "code",
   "execution_count": null,
   "metadata": {
    "colab": {
     "base_uri": "https://localhost:8080/",
     "height": 424
    },
    "colab_type": "code",
    "id": "7XPfARebM-2h",
    "outputId": "4654135f-ece2-4d9c-d96a-7ccd9decbcde"
   },
   "outputs": [],
   "source": [
    "# visualizing hand-written digits\n",
    "thresholds = {}\n",
    "thresholds[ 0 ] = ( 225 , 229 , 451 , 458 )\n",
    "thresholds[ 1 ] = ( 675 , 229 , 901 , 458 )\n",
    "thresholds[ 2 ] = ( 1126 , 229 , 1352 , 458 )\n",
    "thresholds[ 3 ] = ( 1576 , 229 , 1802 , 458 )\n",
    "thresholds[ 4 ] = ( 2027 , 229 , 2253 , 458 )\n",
    "thresholds[ 5 ] = ( 225 , 687 , 451 , 916 )\n",
    "thresholds[ 6 ] = ( 675 , 687 , 901 , 916 )\n",
    "thresholds[ 7 ] = ( 1126 , 687 , 1352 , 916 )\n",
    "thresholds[ 8 ] = ( 1576 , 687 , 1802 , 916 )\n",
    "thresholds[ 9 ] = ( 2027 , 687 , 2253 , 916 )\n",
    "\n",
    "import requests\n",
    "\n",
    "plt.figure( figsize = ( 50 , 10 ) )\n",
    "for i in range( 10 ):\n",
    "    response = requests.get(\"https://math.bme.hu/~marcessz/images_dv/digits.jpg\", stream=True)\n",
    "    image = Image.open(response.raw)\n",
    "    width, height = image.size\n",
    "    image = image.crop( thresholds[ i ] )\n",
    "    image = ImageOps.invert( image )\n",
    "    image.thumbnail( ( 28 , 28 ) )\n",
    "    image_data = np.asarray( image , dtype = np.uint8 )\n",
    "    image_data = image_data.sum( 2 ).astype( float )\n",
    "    image_data /= image_data.max()\n",
    "    plt.subplot( 2 , 5 , i + 1 )\n",
    "    plt.imshow( image_data, cmap = plt.cm.gray )"
   ]
  },
  {
   "cell_type": "code",
   "execution_count": null,
   "metadata": {
    "colab": {
     "base_uri": "https://localhost:8080/",
     "height": 583
    },
    "colab_type": "code",
    "id": "90s8LH05M-2n",
    "outputId": "53230aae-2167-4572-d060-73ac3bb6bcae"
   },
   "outputs": [],
   "source": [
    "# using the trained model to recognize hand-written digits\n",
    "plt.figure( figsize = ( 40 , 12 ) )\n",
    "for i in range( 10 ):\n",
    "    response = requests.get(\"https://math.bme.hu/~marcessz/images_dv/digits.jpg\", stream=True)\n",
    "    image = Image.open(response.raw)\n",
    "    width, height = image.size\n",
    "    image = image.crop( thresholds[ i ] )\n",
    "    image = ImageOps.invert( image )\n",
    "    image.thumbnail( ( 28 , 28 ) )\n",
    "    image_data = np.asarray( image , dtype = np.uint8 )\n",
    "    image_data = image_data.sum( 2 ).astype( float )\n",
    "    image_data /= image_data.max()\n",
    "    image_data = image_data.reshape( 1 , 1 , 28 , 28 )\n",
    "    predictions = model.predict( image_data > 0.8 )\n",
    "    plt.subplot( 2 , 5 , i + 1 )\n",
    "    plt.bar( range( 10 ) , predictions[ 0 ] , 0.3 , color = \"b\" , alpha = 0.6 )\n",
    "    plt.title( i )\n",
    "    plt.grid()\n",
    "    plt.xticks( range( 10 ) )"
   ]
  },
  {
   "cell_type": "code",
   "execution_count": null,
   "metadata": {
    "colab": {},
    "colab_type": "code",
    "id": "NXzsXKjluvx0"
   },
   "outputs": [],
   "source": []
  }
 ],
 "metadata": {
  "accelerator": "GPU",
  "colab": {
   "name": "Notebook04.ipynb",
   "provenance": []
  },
  "kernelspec": {
   "display_name": "Python 3",
   "language": "python",
   "name": "python3"
  },
  "language_info": {
   "codemirror_mode": {
    "name": "ipython",
    "version": 3
   },
   "file_extension": ".py",
   "mimetype": "text/x-python",
   "name": "python",
   "nbconvert_exporter": "python",
   "pygments_lexer": "ipython3",
   "version": "3.7.7"
  }
 },
 "nbformat": 4,
 "nbformat_minor": 1
}
