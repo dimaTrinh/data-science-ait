{
 "cells": [
  {
   "cell_type": "markdown",
   "metadata": {},
   "source": [
    "#  Homework 1 (HW1)\n",
    "Deadline: February 27. Midnight\n",
    "\n",
    "Hand in: the homework must be handed in through the Moodle system. \n",
    "\n",
    "Provide a written answer if requested in the exercise!\n"
   ]
  },
  {
   "cell_type": "markdown",
   "metadata": {},
   "source": [
    "---"
   ]
  },
  {
   "cell_type": "markdown",
   "metadata": {},
   "source": [
    "## Exercise 1 (HW1/1)"
   ]
  },
  {
   "cell_type": "markdown",
   "metadata": {},
   "source": [
    "In this exercise we will investigate income inequality and life expectancy indicators for different countries and regions. (60%)"
   ]
  },
  {
   "cell_type": "markdown",
   "metadata": {},
   "source": [
    "**a)** Import the *countries.csv* file (located in the Data folder of the parent directory of the current file) into a pandas DataFrame and name it *countries*. (Hint: use relative path). From the Gapminder database (http://www.gapminder.org/data/), find and import the *Income per person (GDP/capita, PPP$ inflation-adjusted)* and *Life expentancy (years)* files into pandas Dataframes; name them *income* and *life_exp* respectively. You should import the data directly from the web page, without dowloading it to your computer. (Hint: Use the  *pandas.read_excel()* function!) <br>\n"
   ]
  },
  {
   "cell_type": "markdown",
   "metadata": {},
   "source": [
    "**b)** Represent the distribution of income per capita (across countries) for a given year (for example: 2007) with a histogram!  \n",
    "\n"
   ]
  },
  {
   "cell_type": "markdown",
   "metadata": {},
   "source": [
    "**c)** Write a function that merges the  *countries*, *income* and *life_exp* DataFrames for a given year (this should be the function's input) <br>\n",
    "(Hint: Use the *pd.merge()* function!)"
   ]
  },
  {
   "cell_type": "markdown",
   "metadata": {},
   "source": [
    "**d)** Using the dataframe created in point c), present a [boxplot](https://pandas.pydata.org/pandas-docs/stable/reference/api/pandas.DataFrame.boxplot.html) of the distribution of income per capita (across countries) for the years 1950 and 2010 grouped by region (continent). What changed in 60 years?\n",
    "(Hints: 1. Use the *pd.boxplot* function! 2. Use a logarithmic scale for the income axis!)"
   ]
  },
  {
   "cell_type": "markdown",
   "metadata": {},
   "source": [
    "**e)** Represent the relationship between income per capita and life expectancy for a given year using a [scatter plot](https://pandas.pydata.org/pandas-docs/version/0.23/generated/pandas.DataFrame.plot.scatter.html) based on the dataframe created in point c). (Hint: choose a year where there aren't many missing values!) \n",
    "What can you conclude from the plot? <span style=\"color:red\">(Provide a written answer!)</span>"
   ]
  },
  {
   "cell_type": "markdown",
   "metadata": {},
   "source": [
    "## Exercise 2 (HW1/2)"
   ]
  },
  {
   "cell_type": "markdown",
   "metadata": {},
   "source": [
    "In this exercise we will investigate the data scientist job offers of the  most important job search website in the U.S ([indeed.com](http://www.indeed.com)). (40%)"
   ]
  },
  {
   "cell_type": "markdown",
   "metadata": {},
   "source": [
    "**a)**  Using the *urllib* and *BeautifulSoap* packages, import the search results for the keyword *data scientist*, that is, the content of this URL: http://www.indeed.com/jobs?q=data+scientist&l= \n",
    "\n",
    "Write a function that returns the number of results of the query, i.e. the number of job offers! (Hint: Check the searchCount HTML-tag!)"
   ]
  },
  {
   "cell_type": "markdown",
   "metadata": {},
   "source": [
    "**b)** What are the most common terms in the job offer adds on indeed.com? Analize the first 100 search result pages and create a word cloud of the most popular terms! \n",
    "\n",
    "(Hint: You can access the search result pages as: https://www.indeed.com/jobs?q=data%20scientist&start=0, https://www.indeed.com/jobs?q=data%20scientist&start=10, https://www.indeed.com/jobs?q=data%20scientist&start=20 and so on by 10 up to https://www.indeed.com/jobs?q=data%20scientist&start=990. It may take a few minutes so it is recommended to test your code on one or two pages first and if it works correctly then apply it to the rest of the pages. This way you will save a lot of time if your code needs debugging. ) \n",
    " \n",
    "\n",
    "(Hint: You can find more information on how to create a Word Cloud at https://www.datacamp.com/community/tutorials/wordcloud-python)"
   ]
  },
  {
   "cell_type": "markdown",
   "metadata": {},
   "source": [
    "**c)** From the previously collected data, retrieve the job offers' location information and represent the 10 most frequent cities on a [horizontal bar chart](https://pandas.pydata.org/pandas-docs/stable/reference/api/pandas.DataFrame.plot.barh.html)! Filter the \"United States\" and \"Remote\" locations from the results, look for cities only!\n",
    "\n",
    "(Hint: You can find the necessary information in the \"location\" HTML-tag.)"
   ]
  }
 ],
 "metadata": {
  "kernelspec": {
   "display_name": "Python 3",
   "language": "python",
   "name": "python3"
  },
  "language_info": {
   "codemirror_mode": {
    "name": "ipython",
    "version": 3
   },
   "file_extension": ".py",
   "mimetype": "text/x-python",
   "name": "python",
   "nbconvert_exporter": "python",
   "pygments_lexer": "ipython3",
   "version": "3.7.4"
  }
 },
 "nbformat": 4,
 "nbformat_minor": 2
}
