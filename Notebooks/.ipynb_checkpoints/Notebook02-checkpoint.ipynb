{
 "cells": [
  {
   "cell_type": "markdown",
   "metadata": {},
   "source": [
    "# Data Science"
   ]
  },
  {
   "cell_type": "markdown",
   "metadata": {},
   "source": [
    "## Notebook 2 (importing data, data processing, classification, evaluation)"
   ]
  },
  {
   "cell_type": "markdown",
   "metadata": {},
   "source": [
    "### Collecting data"
   ]
  },
  {
   "cell_type": "markdown",
   "metadata": {},
   "source": [
    "* Dowloading a data file directly\n",
    "* Querying data from a database\n",
    "* Extract data from a web API\n",
    "* Scraping data from a web page"
   ]
  },
  {
   "cell_type": "markdown",
   "metadata": {},
   "source": [
    "#### API\n",
    "* Application Programming Interface\n",
    "* simplifies programming by abstracting the underlying implementation and only exposing objects or actions the developer needs\n",
    "*  It is usually independent from the programming language\n",
    "* We can extract data from a web API\n",
    "* There are free / commercial APIs\n",
    "* There are freely available APIs, sometimes you must get an API key for authentication\n",
    "* More details about APIs, the list of most most popular APIs: https://www.programmableweb.com/apis"
   ]
  },
  {
   "cell_type": "markdown",
   "metadata": {},
   "source": [
    "#### MOst frequently used data formats\n",
    "* CSV (comma sperated values)\n",
    "* JSON (JavaScript Object Notation):\n",
    "    * A text format that is completely language independent\n",
    "    * Most of the web APIs return data in JSON data format\n",
    "* XML / HTML\n",
    "    * hierarchical structure (tags)"
   ]
  },
  {
   "cell_type": "markdown",
   "metadata": {},
   "source": [
    "##### Example - a possible JSON representation of a person"
   ]
  },
  {
   "cell_type": "code",
   "execution_count": 1,
   "metadata": {},
   "outputs": [],
   "source": [
    "jsonex = {\n",
    "  \"firstName\": \"John\",\n",
    "  \"lastName\": \"Smith\",\n",
    "  \"isAlive\": True,\n",
    "  \"age\": 25,\n",
    "  \"address\": {\n",
    "    \"streetAddress\": \"21 2nd Street\",\n",
    "    \"city\": \"New York\",\n",
    "    \"state\": \"NY\",\n",
    "    \"postalCode\": \"10021-3100\"\n",
    "  },\n",
    "  \"phoneNumbers\": [\n",
    "    {\n",
    "      \"type\": \"home\",\n",
    "      \"number\": \"212 555-1234\"\n",
    "    },\n",
    "    {\n",
    "      \"type\": \"office\",\n",
    "      \"number\": \"646 555-4567\"\n",
    "    },\n",
    "    {\n",
    "      \"type\": \"mobile\",\n",
    "      \"number\": \"123 456-7890\"\n",
    "    }\n",
    "  ],\n",
    "  \"children\": [],\n",
    "  \"spouse\": None\n",
    "}"
   ]
  },
  {
   "cell_type": "code",
   "execution_count": 2,
   "metadata": {},
   "outputs": [
    {
     "data": {
      "text/plain": [
       "dict"
      ]
     },
     "execution_count": 2,
     "metadata": {},
     "output_type": "execute_result"
    }
   ],
   "source": [
    "type(jsonex)"
   ]
  },
  {
   "cell_type": "markdown",
   "metadata": {},
   "source": [
    "### Importing JSON files"
   ]
  },
  {
   "cell_type": "code",
   "execution_count": 3,
   "metadata": {},
   "outputs": [],
   "source": [
    "import json\n",
    "a = {'a': 1, 'b':2}\n",
    "s = json.dumps(a)\n",
    "a2 = json.loads(s)"
   ]
  },
  {
   "cell_type": "code",
   "execution_count": 4,
   "metadata": {},
   "outputs": [
    {
     "data": {
      "text/plain": [
       "{'a': 1, 'b': 2}"
      ]
     },
     "execution_count": 4,
     "metadata": {},
     "output_type": "execute_result"
    }
   ],
   "source": [
    "a"
   ]
  },
  {
   "cell_type": "code",
   "execution_count": 51,
   "metadata": {},
   "outputs": [
    {
     "data": {
      "text/plain": [
       "'{\"a\": 1, \"b\": 2}'"
      ]
     },
     "execution_count": 51,
     "metadata": {},
     "output_type": "execute_result"
    }
   ],
   "source": [
    "s"
   ]
  },
  {
   "cell_type": "code",
   "execution_count": 6,
   "metadata": {},
   "outputs": [
    {
     "data": {
      "text/plain": [
       "{'a': 1, 'b': 2}"
      ]
     },
     "execution_count": 6,
     "metadata": {},
     "output_type": "execute_result"
    }
   ],
   "source": [
    "a2"
   ]
  },
  {
   "cell_type": "markdown",
   "metadata": {},
   "source": [
    "#### Importing data about the Hungarian National Football team at 2016 European Football (Soccer) Championship"
   ]
  },
  {
   "cell_type": "code",
   "execution_count": 7,
   "metadata": {},
   "outputs": [],
   "source": [
    "from urllib.request import urlopen\n",
    "url = 'https://math.bme.hu/~molontay/hungary-players.json'\n",
    "data = urlopen(url).read().decode('utf-8')"
   ]
  },
  {
   "cell_type": "code",
   "execution_count": 8,
   "metadata": {},
   "outputs": [
    {
     "data": {
      "text/plain": [
       "'{\"sheets\": {\"Players\": [{\"\": \"\", \"date of birth\": \"01/04/1976\", \"photo done?\": \"yes\", \"goals for country\": \"0\", \"name\": \"G\\\\u00e1bor Kir\\\\u00e1ly\", \"league\": \"National Championship (Hungary)\", \"rating_match3\": \"\", \"position\": \"Goalkeeper\", \"rating_match1\": \"\", \"club\": \"Halad\\\\u00e1s\", \"special player? (eg. key player, promising talent, etc)\": \"No1 goalkeeper\", \"number\": \"\", \"caps\": \"102\", \"bio\": \"40 years old and still going strong in his trademark tracksuit bottoms. He has fond memories of group opponents Austria where his first touch in the national team \\\\u2013 a few goal kicks aside \\\\u2013 was saving a penalty against them in 1998. Played 104 games for Crystal Palace from 2004, and also had spells at West Ham, Villa, Burnley and Fulham. Returned to Hungary with Halad\\\\u00e1s last year. He won his 100th Hungary cap in a 1-0 win away to Norway in their 2016 qualifying play-off first-leg.\", \"rating_match2\": \"\"}, {\"\": \"\", \"date of birth\": \"16/11/1990\", \"photo done?\": \"yes\", \"goals for country\": \"0\", \"name\": \"D\\\\u00e9nes Dibusz\", \"league\": \"National Championship (Hungary)\", \"rating_match3\": \"\", \"position\": \"Goalkeeper\", \"rating_match1\": \"\", \"club\": \"Ferencv\\\\u00e1ros\", \"special player? (eg. key player, promising talent, etc)\": \"\", \"number\": \"\", \"caps\": \"4\", \"bio\": \"Made his debut against the Faroes in 2014, and could replace G\\\\u00e1bor Kir\\\\u00e1ly as first choice in the future \\\\u2013 but not this summer. Has a degree in marketing and management from P\\\\u00e9cs university. As a boy he knew his own mind. \\\\u201cWe have a video from 1994 Easter when I had my first goalkeeper gloves. I can\\'t explain how happy I was, as soon as I\\'ve put them on I started diving on our carpet. I refused to take them off even when I had to open a soda can.\\\\\" Moved to Ferencv\\\\u00e1ros from P\\\\u00e9csi in 2014.\", \"rating_match2\": \"\"}, {\"\": \"\", \"date of birth\": \"06/05/1990\", \"photo done?\": \"yes\", \"goals for country\": \"0\", \"name\": \"P\\\\u00e9ter Gul\\\\u00e1csi\", \"league\": \"2. Bundesliga (Germany)\", \"rating_match3\": \"\", \"position\": \"Goalkeeper\", \"rating_match1\": \"\", \"club\": \"Red Bull Leipzig\", \"special player? (eg. key player, promising talent, etc)\": \"\", \"number\": \"\", \"caps\": \"3\", \"bio\": \"Failed to break into the Liverpool team after joining from MTK Budapest in 2008, and had loan spells at Hereford, Tranmere and Hull before making a permanent move to Red Bull Salzburg in 2013. Last season he won promotion with RB Leipzig. Has plenty of talent but has not come close to dislodging the keepers ahead of him in Hungary\\\\u2019s ranks. Won his first of two caps in 2014.\", \"rating_match2\": \"\"}, {\"\": \"\", \"date of birth\": \"06/05/1994\", \"photo done?\": \"yes\", \"goals for country\": \"0\", \"name\": \"Barnab\\\\u00e1s Bese\", \"league\": \"National Championship (Hungary)\", \"rating_match3\": \"\", \"position\": \"Defender\", \"rating_match1\": \"\", \"club\": \"MTK\", \"special player? (eg. key player, promising talent, etc)\": \"\", \"number\": \"\", \"caps\": \"0\", \"bio\": \"Originally a right winger or striker, he developed into a promising right back - quick, tall and technically adept. Has made 95 appearances for his side MTK, and played at every national youth level from Under-17s. Yet to make his senior breakthrough, though.\", \"rating_match2\": \"\"}, {\"\": \"\", \"date of birth\": \"17/02/1990\", \"photo done?\": \"yes\", \"goals for country\": \"0\", \"name\": \"Attila Fiola\", \"league\": \"National Championship (Hungary)\", \"rating_match3\": \"\", \"position\": \"Defender\", \"rating_match1\": \"\", \"club\": \"Pusk\\\\u00e1s Academy\", \"special player? (eg. key player, promising talent, etc)\": \"\", \"number\": \"\", \"caps\": \"14\", \"bio\": \"Recently played as a centre-back for Puskas Academy \\\\u2013 top-flight Videoton\\\\u2019s youth team - but is already the undisputed starting right back for the senior national team. Started out in football as a striker and was top scorer for the Under-15 and Under-17 sides, before finding his niche at the back. He has a dream. \\\\u201cI always said I have important goals. After the Euros I want to test myself, to play in England or Germany. If all goes well, maybe my dream will come true.\\\\u201d\", \"rating_match2\": \"\"}, {\"\": \"\", \"date of birth\": \"16/04/1987\", \"photo done?\": \"yes\", \"goals for country\": \"1\", \"name\": \"Rich\\\\u00e1rd Guzmics\", \"league\": \"Ekstraklasa (Poland)\", \"rating_match3\": \"\", \"position\": \"Defender\", \"rating_match1\": \"\", \"club\": \"Wisla Krakow\", \"special player? (eg. key player, promising talent, etc)\": \"Unsung hero\", \"number\": \"\", \"caps\": \"13\", \"bio\": \"Was ridiculed after a 2014 World Cup qualifier against Romania where he teed up the openerl for Hungary\\\\u2019s arch rival in the second minute. \\\\u201cI made a mistake, a bad mistake, I\\\\u2019m so sorry,\\\\u201d he said. \\\\u201cBut I cannot change it now.\\\\u201d After that he didn\\\\u2019t play again for the national team for over a year, but has since become one of the most reliable defensive options.\", \"rating_match2\": \"\"}, {\"\": \"\", \"date of birth\": \"14/03/1990\", \"photo done?\": \"yes\", \"goals for country\": \"0\", \"name\": \"Tam\\\\u00e1s K\\\\u00e1d\\\\u00e1r\", \"league\": \"Ekstraklasa (Poland)\", \"rating_match3\": \"\", \"position\": \"Defender\", \"rating_match1\": \"\", \"club\": \"Lech Poznan\", \"special player? (eg. key player, promising talent, etc)\": \"Defensive mainstay\", \"number\": \"\", \"caps\": \"29\", \"bio\": \"Attack-minded left back who spent four years at Newcastle from 2008 after being spotted by Sam Allardyce, and can play in any defensive position. After 13 appearances under Kevin Keegan, Joe Kinnear, Chris Hughton, Alan Shearer and Alan Pardew, and a brief loan at Huddersfield, he moved to Roda in the Netherlands, then Hungary\\\\u2019s Di\\\\u00f3sgy\\\\u0151ri, and spent last season on the left wing at Poland\\\\u2019s Lech Pozna\\\\u0144. Made his first senior international appearance in 2010.\", \"rating_match2\": \"\"}, {\"\": \"\", \"date of birth\": \"01/12/1988\", \"photo done?\": \"yes\", \"goals for country\": \"0\", \"name\": \"Mih\\\\u00e1ly Korhut\", \"league\": \"National Championship (Hungary)\", \"rating_match3\": \"\", \"position\": \"Defender\", \"rating_match1\": \"\", \"club\": \"Debreceni VSC\", \"special player? (eg. key player, promising talent, etc)\": \"\", \"number\": \"\", \"caps\": \"4\", \"bio\": \"In the squad to provide a reliable left-back back-up to Tam\\\\u00e1s K\\\\u00e1d\\\\u00e1r. Good with the ball, he won the Hungarian league and cup double with Debreceni in 2012. Made his Hungary debut in 2014 against Denmark.\", \"rating_match2\": \"\"}, {\"\": \"\", \"date of birth\": \"01/07/1983\", \"photo done?\": \"yes\", \"goals for country\": \"6\", \"name\": \"Roland Juh\\\\u00e1sz\", \"league\": \"National Championship (Hungary)\", \"rating_match3\": \"\", \"position\": \"Defender\", \"rating_match1\": \"\", \"club\": \"Videoton\", \"special player? (eg. key player, promising talent, etc)\": \"\", \"number\": \"\", \"caps\": \"91\", \"bio\": \"Started his career as a striker, only to end up as a centre-back and defensive lynchpin for his country. Missed the first leg of the qualification play-offs through suspension, which put his first-choice status under threat in France. Played 207 games for Anderlecht and was linked with Rangers, Celtic and Sunderland before agreeing a move back to his home country in 2013. In 2011 he began providing financial backing for Hungary\\\\u2019s Childhood Foundation, set up to supply up-to-date equipment to Hungarian paediatric hospitals.\", \"rating_match2\": \"\"}, {\"\": \"\", \"date of birth\": \"17/01/1993\", \"photo done?\": \"yes\", \"goals for country\": \"0\", \"name\": \"\\\\u00c1d\\\\u00e1m Lang\", \"league\": \"National Championship (Hungary)\", \"rating_match3\": \"\", \"position\": \"Defender\", \"rating_match1\": \"\", \"club\": \"Videoton\", \"special player? (eg. key player, promising talent, etc)\": \"\", \"number\": \"\", \"caps\": \"10\", \"bio\": \"Quick, strong and reliable, but struggles with carrying the ball out of defence and starting attacks. He impressed in the qualification play-offs, though, and has been tipped to take big strides forward in France. Joined Videoton from Gy\\\\u0151r in 2015, and won his first Hungary cap in 2014.\", \"rating_match2\": \"\"}, {\"\": \"\", \"date of birth\": \"23/12/1986\", \"photo done?\": \"yes\", \"goals for country\": \"18\", \"name\": \"Bal\\\\u00e1zs Dzsudzs\\\\u00e1k\", \"league\": \"S\\\\u00fcper Lig (Turkey)\", \"rating_match3\": \"\", \"position\": \"Forward\", \"rating_match1\": \"\", \"club\": \"Bursaspor\", \"special player? (eg. key player, promising talent, etc)\": \"Star man\", \"number\": \"\", \"caps\": \"77\", \"bio\": \"Hungary\\\\u2019s star man \\\\u2013 it all revolves around him. Scored a beautiful free kick in Bucharest against Romania in qualifying, becoming the first Hungarian to score an away goal against the arch rivals for 42 years. Mainly a left winger, he is the team\\\\u2019s most technically gifted player. Joined Bursaspor from Dynamo Moscow last year, and appeared on the cover of Fifa 14 in Hungary.\", \"rating_match2\": \"\"}, {\"\": \"\", \"date of birth\": \"21/07/1988\", \"photo done?\": \"yes\", \"goals for country\": \"1\", \"name\": \"\\\\u00c1kos Elek\", \"league\": \"National Championship (Hungary)\", \"rating_match3\": \"\", \"position\": \"Midfielder\", \"rating_match1\": \"\", \"club\": \"Di\\\\u00f3sgy\\\\u0151ri VTK\", \"special player? (eg. key player, promising talent, etc)\": \"\", \"number\": \"\", \"caps\": \"38\", \"bio\": \"Tireless defensive midfielder who returned to the Hungarian championship from China\\\\u2019s Changchun Yatai earlier this year to make sure of his place in the squad for France. Suffered a pre-tournament scare when he sustained a knee injury, meaning he missed some of the build-up. Has won 38 caps since his first appearance in 2010.\", \"rating_match2\": \"\"}, {\"\": \"\", \"date of birth\": \"22/04/1979\", \"photo done?\": \"yes\", \"goals for country\": \"24\", \"name\": \"Zolt\\\\u00e1n Gera\", \"league\": \"National Championship (Hungary)\", \"rating_match3\": \"\", \"position\": \"Midfielder\", \"rating_match1\": \"\", \"club\": \"Ferencv\\\\u00e1ros\", \"special player? (eg. key player, promising talent, etc)\": \"\", \"number\": \"\", \"caps\": \"88\", \"bio\": \"Attacking midfielder who spent ten years with West Brom and Fulham, helping the latter reach the Europa League final. In 2014 he returned to Hungary with Ferencv\\\\u00e1ros, playing an instrumental role in their league-winning side. Plays deeper for the national side. He briefly retired from international football in 2009 after a row with then-coach Erwin Koeman, denying it was \\\\u201ca headstrong decision\\\\u201d - then made a quick comeback when Koeman was sacked.\", \"rating_match2\": \"\"}, {\"\": \"\", \"date of birth\": \"08/04/1994\", \"photo done?\": \"yes\", \"goals for country\": \"1\", \"name\": \"L\\\\u00e1szl\\\\u00f3 Kleinheisler\", \"league\": \"Bundesliga (Germany)\", \"rating_match3\": \"\", \"position\": \"Midfielder\", \"rating_match1\": \"\", \"club\": \"Werder Bremen\", \"special player? (eg. key player, promising talent, etc)\": \"\", \"number\": \"\", \"caps\": \"4\", \"bio\": \"Because of a contract dispute Kleinheisler didn\\\\u2019t play a single minute for his former club Videoton in the first part of last season, so he was a surprise call-up to face Norway in the qualification play-offs. He repaid Bernd Storck\\\\u2019s trust and scored an important debut goal. Joined Werder Bremen for an undisclosed fee in January. Nicknamed Scholes in tribute to his hair, with former coach Bencz\\\\u00e9s Mikl\\\\u00f3s extending the comparison: \\\\u201cThis Scholes is also strong, full-blooded, attack-minded, good with the ball and without. Such a dynamic operator.\\\\u201d\", \"rating_match2\": \"\"}, {\"\": \"\", \"date of birth\": \"01/09/1988\", \"photo done?\": \"yes\", \"goals for country\": \"1\", \"name\": \"Gerg\\\\u0151 Lovrencsics\", \"league\": \"Ekstraklasa (Poland)\", \"rating_match3\": \"\", \"position\": \"Midfielder\", \"rating_match1\": \"\", \"club\": \"Lech Poznan\", \"special player? (eg. key player, promising talent, etc)\": \"\", \"number\": \"\", \"caps\": \"11\", \"bio\": \"A fishing enthusiast. Lovrencsics had never played for a big Hungarian club when Polish side Lech Poznan first showed an interest in 2012; when they waivered over his lack of experience, he offered to sign for a much-reduced salary. Predominantly right footed, but dangerous with his left too - he can operate on both wings. Made his international debut in 2013 against Kuwait.\", \"rating_match2\": \"\"}, {\"\": \"\", \"date of birth\": \"17/06/1995\", \"photo done?\": \"yes\", \"goals for country\": \"0\", \"name\": \"\\\\u00c1d\\\\u00e1m Nagy\", \"league\": \"National Championship (Hungary)\", \"rating_match3\": \"\", \"position\": \"Midfielder\", \"rating_match1\": \"\", \"club\": \"Ferencv\\\\u00e1ros\", \"special player? (eg. key player, promising talent, etc)\": \"Young talent\", \"number\": \"\", \"caps\": \"7\", \"bio\": \"Was written off as a footballer aged 12, but stuck at it, and a few years later started to impress at the Portuguese VSI football academy. Last season he became a starter for champions Ferencv\\\\u00e1ros and should have a big impact for the national team in the coming years. Was recently linked with Chelsea, Liverpool and Freiburg. \\\\u201cI will not transfer somewhere just for money, certainly not,\\\\u201d he says. \\\\u201cI am still young. I feel good at Ferencv\\\\u00e1ros.\\\\u201d\", \"rating_match2\": \"\"}, {\"\": \"\", \"date of birth\": \"12/06/1988\", \"photo done?\": \"yes\", \"goals for country\": \"0\", \"name\": \"\\\\u00c1d\\\\u00e1m Pint\\\\u00e9r\", \"league\": \"National Championship (Hungary)\", \"rating_match3\": \"\", \"position\": \"Midfielder\", \"rating_match1\": \"\", \"club\": \"Ferencv\\\\u00e1ros\", \"special player? (eg. key player, promising talent, etc)\": \"\", \"number\": \"\", \"caps\": \"20\", \"bio\": \"A regular in the Hungary squad when he played in La Liga with Zaragoza, but in 2013 he moved to Russia, then to Greece, and ultimately ended up fading out of the national team. But after moving back to champions Ferencv\\\\u00e1ros in August, he returned to the hold. Can fit in as a centre back or a defensive midfielder.\", \"rating_match2\": \"\"}, {\"\": \"\", \"date of birth\": \"16/10/1988\", \"photo done?\": \"yes\", \"goals for country\": \"2\", \"name\": \"Zolt\\\\u00e1n Stieber\", \"league\": \"Bundesliga (Germany)\", \"rating_match3\": \"\", \"position\": \"Midfielder\", \"rating_match1\": \"\", \"club\": \"Hamburg\", \"special player? (eg. key player, promising talent, etc)\": \"\", \"number\": \"\", \"caps\": \"11\", \"bio\": \"Left Hamburg in January for second-tier N\\\\u00fcrnberg for more playing time, and scored a stunning goal for Hungary against Finland in qualifying last year. Comes from a footballing family: his father played for Halad\\\\u00e1s, and brother Andr\\\\u00e1s plays for FC Ajka. Zolt\\\\u00e1n had unsuccessful trials for Arsenal and Manchester United before signing for Aston Villa in 2007. After a loan at Yeovil, he left in 2009 having failed to make a breakthrough.\", \"rating_match2\": \"\"}, {\"\": \"\", \"date of birth\": \"24/10/1986\", \"photo done?\": \"yes\", \"goals for country\": \"4\", \"name\": \"D\\\\u00e1niel B\\\\u00f6de\", \"league\": \"National Championship (Hungary)\", \"rating_match3\": \"\", \"position\": \"Forward\", \"rating_match1\": \"\", \"club\": \"Ferencv\\\\u00e1ros\", \"special player? (eg. key player, promising talent, etc)\": \"\", \"number\": \"\", \"caps\": \"12\", \"bio\": \"Strong, honest and popular \\\\u2013 even among opposition fans. He scored two important goals against the Faroes in qualifying, though he made more headlines for his infamous judo throw on Norwegian defender Even Hovland in November last year. Comes from a small town called Madocsa, where he sometimes coaches the local team and drives his players to away games. Nicknamed \\\\u201cThe Messi from Madocsa\\\\u201d.\", \"rating_match2\": \"\"}, {\"\": \"\", \"date of birth\": \"31/12/1987\", \"photo done?\": \"yes\", \"goals for country\": \"3\", \"name\": \"Nemanja Nikolic\", \"league\": \"Ekstraklasa (Poland)\", \"rating_match3\": \"\", \"position\": \"Forward\", \"rating_match1\": \"\", \"club\": \"Legia Warsaw\", \"special player? (eg. key player, promising talent, etc)\": \"\", \"number\": \"\", \"caps\": \"18\", \"bio\": \"Failed to score in the qualifiers but did hit a spectacular 23 goals in the first 22 rounds of last season\\\\u2019s Polish league. The scoring dried up a bit after that, but he still arrived in France as the squad\\\\u2019s most in-form striker. The Serbian-born forward\\\\u2019s mother is Hungarian: he became a citizen in 2011.\", \"rating_match2\": \"\"}, {\"\": \"\", \"date of birth\": \"05/01/1989\", \"photo done?\": \"yes\", \"goals for country\": \"3\", \"name\": \"Kriszti\\\\u00e1n N\\\\u00e9meth\", \"league\": \"Stars League (Qatar)\", \"rating_match3\": \"\", \"position\": \"Forward\", \"rating_match1\": \"\", \"club\": \"Al-Gharafa\", \"special player? (eg. key player, promising talent, etc)\": \"\", \"number\": \"\", \"caps\": \"24\", \"bio\": \"The former Liverpool academy player was once tipped as the next great Hungarian player, but ended up becoming a journeyman, playing for clubs in Greece, Hungary, the Netherland and the US before arriving at Qatari side Al Gharafa in January. Found love through sporting injury: he met his handball-playing fianc\\\\u00e9e in the waiting room of the Sports Hospital in Budapest.\", \"rating_match2\": \"\"}, {\"\": \"\", \"date of birth\": \"27/09/1986\", \"photo done?\": \"yes\", \"goals for country\": \"17\", \"name\": \"Tam\\\\u00e1s Priskin\", \"league\": \"Super Liga (Slovakia)\", \"rating_match3\": \"\", \"position\": \"Forward\", \"rating_match1\": \"\", \"club\": \"Slovan Bratislava\", \"special player? (eg. key player, promising talent, etc)\": \"\", \"number\": \"\", \"caps\": \"55\", \"bio\": \"Played for six different English clubs, starting at Watford in 2006, then moved to Russia, Austria and Israel before settling at Slovan Bratislava. Scored a beauty against Norway in the qualification play-offs and called it \\\\u201cthe goal of my life\\\\u2026 qualifying is so important for Hungarians, so I am very happy.\\\\u201d Injured his ankle late March, setting back his tournament preparation.\", \"rating_match2\": \"\"}, {\"\": \"\", \"date of birth\": \"09/12/1987\", \"photo done?\": \"yes\", \"goals for country\": \"8\", \"name\": \"\\\\u00c1d\\\\u00e1m Szalai\", \"league\": \"Bundesliga (Germany)\", \"rating_match3\": \"\", \"position\": \"Forward\", \"rating_match1\": \"\", \"club\": \"Hoffenheim\", \"special player? (eg. key player, promising talent, etc)\": \"\", \"number\": \"\", \"caps\": \"31\", \"bio\": \"Goals are lacking: his last at national level came against the Faroes in October 2014, and he failed to score for both the clubs he represented last season \\\\u2013 Hoffenheim and Hannover. Remains popular, though. After Hungary qualified he walked into a bar in Budapest and paid for a round of p\\\\u00e1linka (Hungary\\\\u2019s traditional spirit) for around 200 people, telling them: \\\\u201cWe qualified after 44 years, you as fans suffered the most. Because you are here you should all drink another p\\\\u00e1linka and no one should go to bed before seven in the morning.\\\\\" When a fan posted footage of his speech on his Facebook page a day later, he replied: \\\\u201cI cannot remember this.\\\\u201d\", \"rating_match2\": \"\"}]}}'"
      ]
     },
     "execution_count": 8,
     "metadata": {},
     "output_type": "execute_result"
    }
   ],
   "source": [
    "data"
   ]
  },
  {
   "cell_type": "code",
   "execution_count": 9,
   "metadata": {},
   "outputs": [],
   "source": [
    "eb = json.loads(data)"
   ]
  },
  {
   "cell_type": "code",
   "execution_count": 10,
   "metadata": {},
   "outputs": [
    {
     "data": {
      "text/plain": [
       "{'sheets': {'Players': [{'': '',\n",
       "    'date of birth': '01/04/1976',\n",
       "    'photo done?': 'yes',\n",
       "    'goals for country': '0',\n",
       "    'name': 'Gábor Király',\n",
       "    'league': 'National Championship (Hungary)',\n",
       "    'rating_match3': '',\n",
       "    'position': 'Goalkeeper',\n",
       "    'rating_match1': '',\n",
       "    'club': 'Haladás',\n",
       "    'special player? (eg. key player, promising talent, etc)': 'No1 goalkeeper',\n",
       "    'number': '',\n",
       "    'caps': '102',\n",
       "    'bio': '40 years old and still going strong in his trademark tracksuit bottoms. He has fond memories of group opponents Austria where his first touch in the national team – a few goal kicks aside – was saving a penalty against them in 1998. Played 104 games for Crystal Palace from 2004, and also had spells at West Ham, Villa, Burnley and Fulham. Returned to Hungary with Haladás last year. He won his 100th Hungary cap in a 1-0 win away to Norway in their 2016 qualifying play-off first-leg.',\n",
       "    'rating_match2': ''},\n",
       "   {'': '',\n",
       "    'date of birth': '16/11/1990',\n",
       "    'photo done?': 'yes',\n",
       "    'goals for country': '0',\n",
       "    'name': 'Dénes Dibusz',\n",
       "    'league': 'National Championship (Hungary)',\n",
       "    'rating_match3': '',\n",
       "    'position': 'Goalkeeper',\n",
       "    'rating_match1': '',\n",
       "    'club': 'Ferencváros',\n",
       "    'special player? (eg. key player, promising talent, etc)': '',\n",
       "    'number': '',\n",
       "    'caps': '4',\n",
       "    'bio': 'Made his debut against the Faroes in 2014, and could replace Gábor Király as first choice in the future – but not this summer. Has a degree in marketing and management from Pécs university. As a boy he knew his own mind. “We have a video from 1994 Easter when I had my first goalkeeper gloves. I can\\'t explain how happy I was, as soon as I\\'ve put them on I started diving on our carpet. I refused to take them off even when I had to open a soda can.\" Moved to Ferencváros from Pécsi in 2014.',\n",
       "    'rating_match2': ''},\n",
       "   {'': '',\n",
       "    'date of birth': '06/05/1990',\n",
       "    'photo done?': 'yes',\n",
       "    'goals for country': '0',\n",
       "    'name': 'Péter Gulácsi',\n",
       "    'league': '2. Bundesliga (Germany)',\n",
       "    'rating_match3': '',\n",
       "    'position': 'Goalkeeper',\n",
       "    'rating_match1': '',\n",
       "    'club': 'Red Bull Leipzig',\n",
       "    'special player? (eg. key player, promising talent, etc)': '',\n",
       "    'number': '',\n",
       "    'caps': '3',\n",
       "    'bio': 'Failed to break into the Liverpool team after joining from MTK Budapest in 2008, and had loan spells at Hereford, Tranmere and Hull before making a permanent move to Red Bull Salzburg in 2013. Last season he won promotion with RB Leipzig. Has plenty of talent but has not come close to dislodging the keepers ahead of him in Hungary’s ranks. Won his first of two caps in 2014.',\n",
       "    'rating_match2': ''},\n",
       "   {'': '',\n",
       "    'date of birth': '06/05/1994',\n",
       "    'photo done?': 'yes',\n",
       "    'goals for country': '0',\n",
       "    'name': 'Barnabás Bese',\n",
       "    'league': 'National Championship (Hungary)',\n",
       "    'rating_match3': '',\n",
       "    'position': 'Defender',\n",
       "    'rating_match1': '',\n",
       "    'club': 'MTK',\n",
       "    'special player? (eg. key player, promising talent, etc)': '',\n",
       "    'number': '',\n",
       "    'caps': '0',\n",
       "    'bio': 'Originally a right winger or striker, he developed into a promising right back - quick, tall and technically adept. Has made 95 appearances for his side MTK, and played at every national youth level from Under-17s. Yet to make his senior breakthrough, though.',\n",
       "    'rating_match2': ''},\n",
       "   {'': '',\n",
       "    'date of birth': '17/02/1990',\n",
       "    'photo done?': 'yes',\n",
       "    'goals for country': '0',\n",
       "    'name': 'Attila Fiola',\n",
       "    'league': 'National Championship (Hungary)',\n",
       "    'rating_match3': '',\n",
       "    'position': 'Defender',\n",
       "    'rating_match1': '',\n",
       "    'club': 'Puskás Academy',\n",
       "    'special player? (eg. key player, promising talent, etc)': '',\n",
       "    'number': '',\n",
       "    'caps': '14',\n",
       "    'bio': 'Recently played as a centre-back for Puskas Academy – top-flight Videoton’s youth team - but is already the undisputed starting right back for the senior national team. Started out in football as a striker and was top scorer for the Under-15 and Under-17 sides, before finding his niche at the back. He has a dream. “I always said I have important goals. After the Euros I want to test myself, to play in England or Germany. If all goes well, maybe my dream will come true.”',\n",
       "    'rating_match2': ''},\n",
       "   {'': '',\n",
       "    'date of birth': '16/04/1987',\n",
       "    'photo done?': 'yes',\n",
       "    'goals for country': '1',\n",
       "    'name': 'Richárd Guzmics',\n",
       "    'league': 'Ekstraklasa (Poland)',\n",
       "    'rating_match3': '',\n",
       "    'position': 'Defender',\n",
       "    'rating_match1': '',\n",
       "    'club': 'Wisla Krakow',\n",
       "    'special player? (eg. key player, promising talent, etc)': 'Unsung hero',\n",
       "    'number': '',\n",
       "    'caps': '13',\n",
       "    'bio': 'Was ridiculed after a 2014 World Cup qualifier against Romania where he teed up the openerl for Hungary’s arch rival in the second minute. “I made a mistake, a bad mistake, I’m so sorry,” he said. “But I cannot change it now.” After that he didn’t play again for the national team for over a year, but has since become one of the most reliable defensive options.',\n",
       "    'rating_match2': ''},\n",
       "   {'': '',\n",
       "    'date of birth': '14/03/1990',\n",
       "    'photo done?': 'yes',\n",
       "    'goals for country': '0',\n",
       "    'name': 'Tamás Kádár',\n",
       "    'league': 'Ekstraklasa (Poland)',\n",
       "    'rating_match3': '',\n",
       "    'position': 'Defender',\n",
       "    'rating_match1': '',\n",
       "    'club': 'Lech Poznan',\n",
       "    'special player? (eg. key player, promising talent, etc)': 'Defensive mainstay',\n",
       "    'number': '',\n",
       "    'caps': '29',\n",
       "    'bio': 'Attack-minded left back who spent four years at Newcastle from 2008 after being spotted by Sam Allardyce, and can play in any defensive position. After 13 appearances under Kevin Keegan, Joe Kinnear, Chris Hughton, Alan Shearer and Alan Pardew, and a brief loan at Huddersfield, he moved to Roda in the Netherlands, then Hungary’s Diósgyőri, and spent last season on the left wing at Poland’s Lech Poznań. Made his first senior international appearance in 2010.',\n",
       "    'rating_match2': ''},\n",
       "   {'': '',\n",
       "    'date of birth': '01/12/1988',\n",
       "    'photo done?': 'yes',\n",
       "    'goals for country': '0',\n",
       "    'name': 'Mihály Korhut',\n",
       "    'league': 'National Championship (Hungary)',\n",
       "    'rating_match3': '',\n",
       "    'position': 'Defender',\n",
       "    'rating_match1': '',\n",
       "    'club': 'Debreceni VSC',\n",
       "    'special player? (eg. key player, promising talent, etc)': '',\n",
       "    'number': '',\n",
       "    'caps': '4',\n",
       "    'bio': 'In the squad to provide a reliable left-back back-up to Tamás Kádár. Good with the ball, he won the Hungarian league and cup double with Debreceni in 2012. Made his Hungary debut in 2014 against Denmark.',\n",
       "    'rating_match2': ''},\n",
       "   {'': '',\n",
       "    'date of birth': '01/07/1983',\n",
       "    'photo done?': 'yes',\n",
       "    'goals for country': '6',\n",
       "    'name': 'Roland Juhász',\n",
       "    'league': 'National Championship (Hungary)',\n",
       "    'rating_match3': '',\n",
       "    'position': 'Defender',\n",
       "    'rating_match1': '',\n",
       "    'club': 'Videoton',\n",
       "    'special player? (eg. key player, promising talent, etc)': '',\n",
       "    'number': '',\n",
       "    'caps': '91',\n",
       "    'bio': 'Started his career as a striker, only to end up as a centre-back and defensive lynchpin for his country. Missed the first leg of the qualification play-offs through suspension, which put his first-choice status under threat in France. Played 207 games for Anderlecht and was linked with Rangers, Celtic and Sunderland before agreeing a move back to his home country in 2013. In 2011 he began providing financial backing for Hungary’s Childhood Foundation, set up to supply up-to-date equipment to Hungarian paediatric hospitals.',\n",
       "    'rating_match2': ''},\n",
       "   {'': '',\n",
       "    'date of birth': '17/01/1993',\n",
       "    'photo done?': 'yes',\n",
       "    'goals for country': '0',\n",
       "    'name': 'Ádám Lang',\n",
       "    'league': 'National Championship (Hungary)',\n",
       "    'rating_match3': '',\n",
       "    'position': 'Defender',\n",
       "    'rating_match1': '',\n",
       "    'club': 'Videoton',\n",
       "    'special player? (eg. key player, promising talent, etc)': '',\n",
       "    'number': '',\n",
       "    'caps': '10',\n",
       "    'bio': 'Quick, strong and reliable, but struggles with carrying the ball out of defence and starting attacks. He impressed in the qualification play-offs, though, and has been tipped to take big strides forward in France. Joined Videoton from Győr in 2015, and won his first Hungary cap in 2014.',\n",
       "    'rating_match2': ''},\n",
       "   {'': '',\n",
       "    'date of birth': '23/12/1986',\n",
       "    'photo done?': 'yes',\n",
       "    'goals for country': '18',\n",
       "    'name': 'Balázs Dzsudzsák',\n",
       "    'league': 'Süper Lig (Turkey)',\n",
       "    'rating_match3': '',\n",
       "    'position': 'Forward',\n",
       "    'rating_match1': '',\n",
       "    'club': 'Bursaspor',\n",
       "    'special player? (eg. key player, promising talent, etc)': 'Star man',\n",
       "    'number': '',\n",
       "    'caps': '77',\n",
       "    'bio': 'Hungary’s star man – it all revolves around him. Scored a beautiful free kick in Bucharest against Romania in qualifying, becoming the first Hungarian to score an away goal against the arch rivals for 42 years. Mainly a left winger, he is the team’s most technically gifted player. Joined Bursaspor from Dynamo Moscow last year, and appeared on the cover of Fifa 14 in Hungary.',\n",
       "    'rating_match2': ''},\n",
       "   {'': '',\n",
       "    'date of birth': '21/07/1988',\n",
       "    'photo done?': 'yes',\n",
       "    'goals for country': '1',\n",
       "    'name': 'Ákos Elek',\n",
       "    'league': 'National Championship (Hungary)',\n",
       "    'rating_match3': '',\n",
       "    'position': 'Midfielder',\n",
       "    'rating_match1': '',\n",
       "    'club': 'Diósgyőri VTK',\n",
       "    'special player? (eg. key player, promising talent, etc)': '',\n",
       "    'number': '',\n",
       "    'caps': '38',\n",
       "    'bio': 'Tireless defensive midfielder who returned to the Hungarian championship from China’s Changchun Yatai earlier this year to make sure of his place in the squad for France. Suffered a pre-tournament scare when he sustained a knee injury, meaning he missed some of the build-up. Has won 38 caps since his first appearance in 2010.',\n",
       "    'rating_match2': ''},\n",
       "   {'': '',\n",
       "    'date of birth': '22/04/1979',\n",
       "    'photo done?': 'yes',\n",
       "    'goals for country': '24',\n",
       "    'name': 'Zoltán Gera',\n",
       "    'league': 'National Championship (Hungary)',\n",
       "    'rating_match3': '',\n",
       "    'position': 'Midfielder',\n",
       "    'rating_match1': '',\n",
       "    'club': 'Ferencváros',\n",
       "    'special player? (eg. key player, promising talent, etc)': '',\n",
       "    'number': '',\n",
       "    'caps': '88',\n",
       "    'bio': 'Attacking midfielder who spent ten years with West Brom and Fulham, helping the latter reach the Europa League final. In 2014 he returned to Hungary with Ferencváros, playing an instrumental role in their league-winning side. Plays deeper for the national side. He briefly retired from international football in 2009 after a row with then-coach Erwin Koeman, denying it was “a headstrong decision” - then made a quick comeback when Koeman was sacked.',\n",
       "    'rating_match2': ''},\n",
       "   {'': '',\n",
       "    'date of birth': '08/04/1994',\n",
       "    'photo done?': 'yes',\n",
       "    'goals for country': '1',\n",
       "    'name': 'László Kleinheisler',\n",
       "    'league': 'Bundesliga (Germany)',\n",
       "    'rating_match3': '',\n",
       "    'position': 'Midfielder',\n",
       "    'rating_match1': '',\n",
       "    'club': 'Werder Bremen',\n",
       "    'special player? (eg. key player, promising talent, etc)': '',\n",
       "    'number': '',\n",
       "    'caps': '4',\n",
       "    'bio': 'Because of a contract dispute Kleinheisler didn’t play a single minute for his former club Videoton in the first part of last season, so he was a surprise call-up to face Norway in the qualification play-offs. He repaid Bernd Storck’s trust and scored an important debut goal. Joined Werder Bremen for an undisclosed fee in January. Nicknamed Scholes in tribute to his hair, with former coach Benczés Miklós extending the comparison: “This Scholes is also strong, full-blooded, attack-minded, good with the ball and without. Such a dynamic operator.”',\n",
       "    'rating_match2': ''},\n",
       "   {'': '',\n",
       "    'date of birth': '01/09/1988',\n",
       "    'photo done?': 'yes',\n",
       "    'goals for country': '1',\n",
       "    'name': 'Gergő Lovrencsics',\n",
       "    'league': 'Ekstraklasa (Poland)',\n",
       "    'rating_match3': '',\n",
       "    'position': 'Midfielder',\n",
       "    'rating_match1': '',\n",
       "    'club': 'Lech Poznan',\n",
       "    'special player? (eg. key player, promising talent, etc)': '',\n",
       "    'number': '',\n",
       "    'caps': '11',\n",
       "    'bio': 'A fishing enthusiast. Lovrencsics had never played for a big Hungarian club when Polish side Lech Poznan first showed an interest in 2012; when they waivered over his lack of experience, he offered to sign for a much-reduced salary. Predominantly right footed, but dangerous with his left too - he can operate on both wings. Made his international debut in 2013 against Kuwait.',\n",
       "    'rating_match2': ''},\n",
       "   {'': '',\n",
       "    'date of birth': '17/06/1995',\n",
       "    'photo done?': 'yes',\n",
       "    'goals for country': '0',\n",
       "    'name': 'Ádám Nagy',\n",
       "    'league': 'National Championship (Hungary)',\n",
       "    'rating_match3': '',\n",
       "    'position': 'Midfielder',\n",
       "    'rating_match1': '',\n",
       "    'club': 'Ferencváros',\n",
       "    'special player? (eg. key player, promising talent, etc)': 'Young talent',\n",
       "    'number': '',\n",
       "    'caps': '7',\n",
       "    'bio': 'Was written off as a footballer aged 12, but stuck at it, and a few years later started to impress at the Portuguese VSI football academy. Last season he became a starter for champions Ferencváros and should have a big impact for the national team in the coming years. Was recently linked with Chelsea, Liverpool and Freiburg. “I will not transfer somewhere just for money, certainly not,” he says. “I am still young. I feel good at Ferencváros.”',\n",
       "    'rating_match2': ''},\n",
       "   {'': '',\n",
       "    'date of birth': '12/06/1988',\n",
       "    'photo done?': 'yes',\n",
       "    'goals for country': '0',\n",
       "    'name': 'Ádám Pintér',\n",
       "    'league': 'National Championship (Hungary)',\n",
       "    'rating_match3': '',\n",
       "    'position': 'Midfielder',\n",
       "    'rating_match1': '',\n",
       "    'club': 'Ferencváros',\n",
       "    'special player? (eg. key player, promising talent, etc)': '',\n",
       "    'number': '',\n",
       "    'caps': '20',\n",
       "    'bio': 'A regular in the Hungary squad when he played in La Liga with Zaragoza, but in 2013 he moved to Russia, then to Greece, and ultimately ended up fading out of the national team. But after moving back to champions Ferencváros in August, he returned to the hold. Can fit in as a centre back or a defensive midfielder.',\n",
       "    'rating_match2': ''},\n",
       "   {'': '',\n",
       "    'date of birth': '16/10/1988',\n",
       "    'photo done?': 'yes',\n",
       "    'goals for country': '2',\n",
       "    'name': 'Zoltán Stieber',\n",
       "    'league': 'Bundesliga (Germany)',\n",
       "    'rating_match3': '',\n",
       "    'position': 'Midfielder',\n",
       "    'rating_match1': '',\n",
       "    'club': 'Hamburg',\n",
       "    'special player? (eg. key player, promising talent, etc)': '',\n",
       "    'number': '',\n",
       "    'caps': '11',\n",
       "    'bio': 'Left Hamburg in January for second-tier Nürnberg for more playing time, and scored a stunning goal for Hungary against Finland in qualifying last year. Comes from a footballing family: his father played for Haladás, and brother András plays for FC Ajka. Zoltán had unsuccessful trials for Arsenal and Manchester United before signing for Aston Villa in 2007. After a loan at Yeovil, he left in 2009 having failed to make a breakthrough.',\n",
       "    'rating_match2': ''},\n",
       "   {'': '',\n",
       "    'date of birth': '24/10/1986',\n",
       "    'photo done?': 'yes',\n",
       "    'goals for country': '4',\n",
       "    'name': 'Dániel Böde',\n",
       "    'league': 'National Championship (Hungary)',\n",
       "    'rating_match3': '',\n",
       "    'position': 'Forward',\n",
       "    'rating_match1': '',\n",
       "    'club': 'Ferencváros',\n",
       "    'special player? (eg. key player, promising talent, etc)': '',\n",
       "    'number': '',\n",
       "    'caps': '12',\n",
       "    'bio': 'Strong, honest and popular – even among opposition fans. He scored two important goals against the Faroes in qualifying, though he made more headlines for his infamous judo throw on Norwegian defender Even Hovland in November last year. Comes from a small town called Madocsa, where he sometimes coaches the local team and drives his players to away games. Nicknamed “The Messi from Madocsa”.',\n",
       "    'rating_match2': ''},\n",
       "   {'': '',\n",
       "    'date of birth': '31/12/1987',\n",
       "    'photo done?': 'yes',\n",
       "    'goals for country': '3',\n",
       "    'name': 'Nemanja Nikolic',\n",
       "    'league': 'Ekstraklasa (Poland)',\n",
       "    'rating_match3': '',\n",
       "    'position': 'Forward',\n",
       "    'rating_match1': '',\n",
       "    'club': 'Legia Warsaw',\n",
       "    'special player? (eg. key player, promising talent, etc)': '',\n",
       "    'number': '',\n",
       "    'caps': '18',\n",
       "    'bio': 'Failed to score in the qualifiers but did hit a spectacular 23 goals in the first 22 rounds of last season’s Polish league. The scoring dried up a bit after that, but he still arrived in France as the squad’s most in-form striker. The Serbian-born forward’s mother is Hungarian: he became a citizen in 2011.',\n",
       "    'rating_match2': ''},\n",
       "   {'': '',\n",
       "    'date of birth': '05/01/1989',\n",
       "    'photo done?': 'yes',\n",
       "    'goals for country': '3',\n",
       "    'name': 'Krisztián Németh',\n",
       "    'league': 'Stars League (Qatar)',\n",
       "    'rating_match3': '',\n",
       "    'position': 'Forward',\n",
       "    'rating_match1': '',\n",
       "    'club': 'Al-Gharafa',\n",
       "    'special player? (eg. key player, promising talent, etc)': '',\n",
       "    'number': '',\n",
       "    'caps': '24',\n",
       "    'bio': 'The former Liverpool academy player was once tipped as the next great Hungarian player, but ended up becoming a journeyman, playing for clubs in Greece, Hungary, the Netherland and the US before arriving at Qatari side Al Gharafa in January. Found love through sporting injury: he met his handball-playing fiancée in the waiting room of the Sports Hospital in Budapest.',\n",
       "    'rating_match2': ''},\n",
       "   {'': '',\n",
       "    'date of birth': '27/09/1986',\n",
       "    'photo done?': 'yes',\n",
       "    'goals for country': '17',\n",
       "    'name': 'Tamás Priskin',\n",
       "    'league': 'Super Liga (Slovakia)',\n",
       "    'rating_match3': '',\n",
       "    'position': 'Forward',\n",
       "    'rating_match1': '',\n",
       "    'club': 'Slovan Bratislava',\n",
       "    'special player? (eg. key player, promising talent, etc)': '',\n",
       "    'number': '',\n",
       "    'caps': '55',\n",
       "    'bio': 'Played for six different English clubs, starting at Watford in 2006, then moved to Russia, Austria and Israel before settling at Slovan Bratislava. Scored a beauty against Norway in the qualification play-offs and called it “the goal of my life… qualifying is so important for Hungarians, so I am very happy.” Injured his ankle late March, setting back his tournament preparation.',\n",
       "    'rating_match2': ''},\n",
       "   {'': '',\n",
       "    'date of birth': '09/12/1987',\n",
       "    'photo done?': 'yes',\n",
       "    'goals for country': '8',\n",
       "    'name': 'Ádám Szalai',\n",
       "    'league': 'Bundesliga (Germany)',\n",
       "    'rating_match3': '',\n",
       "    'position': 'Forward',\n",
       "    'rating_match1': '',\n",
       "    'club': 'Hoffenheim',\n",
       "    'special player? (eg. key player, promising talent, etc)': '',\n",
       "    'number': '',\n",
       "    'caps': '31',\n",
       "    'bio': 'Goals are lacking: his last at national level came against the Faroes in October 2014, and he failed to score for both the clubs he represented last season – Hoffenheim and Hannover. Remains popular, though. After Hungary qualified he walked into a bar in Budapest and paid for a round of pálinka (Hungary’s traditional spirit) for around 200 people, telling them: “We qualified after 44 years, you as fans suffered the most. Because you are here you should all drink another pálinka and no one should go to bed before seven in the morning.\" When a fan posted footage of his speech on his Facebook page a day later, he replied: “I cannot remember this.”',\n",
       "    'rating_match2': ''}]}}"
      ]
     },
     "execution_count": 10,
     "metadata": {},
     "output_type": "execute_result"
    }
   ],
   "source": [
    "eb"
   ]
  },
  {
   "cell_type": "markdown",
   "metadata": {},
   "source": [
    "##### Collecting the important infromation"
   ]
  },
  {
   "cell_type": "markdown",
   "metadata": {},
   "source": [
    "Filtering for imortant attributes"
   ]
  },
  {
   "cell_type": "code",
   "execution_count": 11,
   "metadata": {},
   "outputs": [],
   "source": [
    "dict = eb['sheets']['Players']\n",
    "keys = ['name', 'caps', 'goals for country', 'date of birth', 'club']"
   ]
  },
  {
   "cell_type": "code",
   "execution_count": 12,
   "metadata": {},
   "outputs": [
    {
     "data": {
      "text/plain": [
       "[['Gábor Király', '102', '0', '01/04/1976', 'Haladás'],\n",
       " ['Dénes Dibusz', '4', '0', '16/11/1990', 'Ferencváros'],\n",
       " ['Péter Gulácsi', '3', '0', '06/05/1990', 'Red Bull Leipzig'],\n",
       " ['Barnabás Bese', '0', '0', '06/05/1994', 'MTK'],\n",
       " ['Attila Fiola', '14', '0', '17/02/1990', 'Puskás Academy'],\n",
       " ['Richárd Guzmics', '13', '1', '16/04/1987', 'Wisla Krakow'],\n",
       " ['Tamás Kádár', '29', '0', '14/03/1990', 'Lech Poznan'],\n",
       " ['Mihály Korhut', '4', '0', '01/12/1988', 'Debreceni VSC'],\n",
       " ['Roland Juhász', '91', '6', '01/07/1983', 'Videoton'],\n",
       " ['Ádám Lang', '10', '0', '17/01/1993', 'Videoton'],\n",
       " ['Balázs Dzsudzsák', '77', '18', '23/12/1986', 'Bursaspor'],\n",
       " ['Ákos Elek', '38', '1', '21/07/1988', 'Diósgyőri VTK'],\n",
       " ['Zoltán Gera', '88', '24', '22/04/1979', 'Ferencváros'],\n",
       " ['László Kleinheisler', '4', '1', '08/04/1994', 'Werder Bremen'],\n",
       " ['Gergő Lovrencsics', '11', '1', '01/09/1988', 'Lech Poznan'],\n",
       " ['Ádám Nagy', '7', '0', '17/06/1995', 'Ferencváros'],\n",
       " ['Ádám Pintér', '20', '0', '12/06/1988', 'Ferencváros'],\n",
       " ['Zoltán Stieber', '11', '2', '16/10/1988', 'Hamburg'],\n",
       " ['Dániel Böde', '12', '4', '24/10/1986', 'Ferencváros'],\n",
       " ['Nemanja Nikolic', '18', '3', '31/12/1987', 'Legia Warsaw'],\n",
       " ['Krisztián Németh', '24', '3', '05/01/1989', 'Al-Gharafa'],\n",
       " ['Tamás Priskin', '55', '17', '27/09/1986', 'Slovan Bratislava'],\n",
       " ['Ádám Szalai', '31', '8', '09/12/1987', 'Hoffenheim']]"
      ]
     },
     "execution_count": 12,
     "metadata": {},
     "output_type": "execute_result"
    }
   ],
   "source": [
    "players = [[player[i] for i in keys] for player in dict] \n",
    "players"
   ]
  },
  {
   "cell_type": "markdown",
   "metadata": {},
   "source": [
    "From lists to Pandas data frame"
   ]
  },
  {
   "cell_type": "code",
   "execution_count": 13,
   "metadata": {},
   "outputs": [
    {
     "data": {
      "text/html": [
       "<div>\n",
       "<style scoped>\n",
       "    .dataframe tbody tr th:only-of-type {\n",
       "        vertical-align: middle;\n",
       "    }\n",
       "\n",
       "    .dataframe tbody tr th {\n",
       "        vertical-align: top;\n",
       "    }\n",
       "\n",
       "    .dataframe thead th {\n",
       "        text-align: right;\n",
       "    }\n",
       "</style>\n",
       "<table border=\"1\" class=\"dataframe\">\n",
       "  <thead>\n",
       "    <tr style=\"text-align: right;\">\n",
       "      <th></th>\n",
       "      <th>name</th>\n",
       "      <th>caps</th>\n",
       "      <th>goals for country</th>\n",
       "      <th>date of birth</th>\n",
       "      <th>club</th>\n",
       "    </tr>\n",
       "  </thead>\n",
       "  <tbody>\n",
       "    <tr>\n",
       "      <td>0</td>\n",
       "      <td>Gábor Király</td>\n",
       "      <td>102</td>\n",
       "      <td>0</td>\n",
       "      <td>01/04/1976</td>\n",
       "      <td>Haladás</td>\n",
       "    </tr>\n",
       "    <tr>\n",
       "      <td>1</td>\n",
       "      <td>Dénes Dibusz</td>\n",
       "      <td>4</td>\n",
       "      <td>0</td>\n",
       "      <td>16/11/1990</td>\n",
       "      <td>Ferencváros</td>\n",
       "    </tr>\n",
       "    <tr>\n",
       "      <td>2</td>\n",
       "      <td>Péter Gulácsi</td>\n",
       "      <td>3</td>\n",
       "      <td>0</td>\n",
       "      <td>06/05/1990</td>\n",
       "      <td>Red Bull Leipzig</td>\n",
       "    </tr>\n",
       "    <tr>\n",
       "      <td>3</td>\n",
       "      <td>Barnabás Bese</td>\n",
       "      <td>0</td>\n",
       "      <td>0</td>\n",
       "      <td>06/05/1994</td>\n",
       "      <td>MTK</td>\n",
       "    </tr>\n",
       "    <tr>\n",
       "      <td>4</td>\n",
       "      <td>Attila Fiola</td>\n",
       "      <td>14</td>\n",
       "      <td>0</td>\n",
       "      <td>17/02/1990</td>\n",
       "      <td>Puskás Academy</td>\n",
       "    </tr>\n",
       "    <tr>\n",
       "      <td>5</td>\n",
       "      <td>Richárd Guzmics</td>\n",
       "      <td>13</td>\n",
       "      <td>1</td>\n",
       "      <td>16/04/1987</td>\n",
       "      <td>Wisla Krakow</td>\n",
       "    </tr>\n",
       "    <tr>\n",
       "      <td>6</td>\n",
       "      <td>Tamás Kádár</td>\n",
       "      <td>29</td>\n",
       "      <td>0</td>\n",
       "      <td>14/03/1990</td>\n",
       "      <td>Lech Poznan</td>\n",
       "    </tr>\n",
       "    <tr>\n",
       "      <td>7</td>\n",
       "      <td>Mihály Korhut</td>\n",
       "      <td>4</td>\n",
       "      <td>0</td>\n",
       "      <td>01/12/1988</td>\n",
       "      <td>Debreceni VSC</td>\n",
       "    </tr>\n",
       "    <tr>\n",
       "      <td>8</td>\n",
       "      <td>Roland Juhász</td>\n",
       "      <td>91</td>\n",
       "      <td>6</td>\n",
       "      <td>01/07/1983</td>\n",
       "      <td>Videoton</td>\n",
       "    </tr>\n",
       "    <tr>\n",
       "      <td>9</td>\n",
       "      <td>Ádám Lang</td>\n",
       "      <td>10</td>\n",
       "      <td>0</td>\n",
       "      <td>17/01/1993</td>\n",
       "      <td>Videoton</td>\n",
       "    </tr>\n",
       "    <tr>\n",
       "      <td>10</td>\n",
       "      <td>Balázs Dzsudzsák</td>\n",
       "      <td>77</td>\n",
       "      <td>18</td>\n",
       "      <td>23/12/1986</td>\n",
       "      <td>Bursaspor</td>\n",
       "    </tr>\n",
       "    <tr>\n",
       "      <td>11</td>\n",
       "      <td>Ákos Elek</td>\n",
       "      <td>38</td>\n",
       "      <td>1</td>\n",
       "      <td>21/07/1988</td>\n",
       "      <td>Diósgyőri VTK</td>\n",
       "    </tr>\n",
       "    <tr>\n",
       "      <td>12</td>\n",
       "      <td>Zoltán Gera</td>\n",
       "      <td>88</td>\n",
       "      <td>24</td>\n",
       "      <td>22/04/1979</td>\n",
       "      <td>Ferencváros</td>\n",
       "    </tr>\n",
       "    <tr>\n",
       "      <td>13</td>\n",
       "      <td>László Kleinheisler</td>\n",
       "      <td>4</td>\n",
       "      <td>1</td>\n",
       "      <td>08/04/1994</td>\n",
       "      <td>Werder Bremen</td>\n",
       "    </tr>\n",
       "    <tr>\n",
       "      <td>14</td>\n",
       "      <td>Gergő Lovrencsics</td>\n",
       "      <td>11</td>\n",
       "      <td>1</td>\n",
       "      <td>01/09/1988</td>\n",
       "      <td>Lech Poznan</td>\n",
       "    </tr>\n",
       "    <tr>\n",
       "      <td>15</td>\n",
       "      <td>Ádám Nagy</td>\n",
       "      <td>7</td>\n",
       "      <td>0</td>\n",
       "      <td>17/06/1995</td>\n",
       "      <td>Ferencváros</td>\n",
       "    </tr>\n",
       "    <tr>\n",
       "      <td>16</td>\n",
       "      <td>Ádám Pintér</td>\n",
       "      <td>20</td>\n",
       "      <td>0</td>\n",
       "      <td>12/06/1988</td>\n",
       "      <td>Ferencváros</td>\n",
       "    </tr>\n",
       "    <tr>\n",
       "      <td>17</td>\n",
       "      <td>Zoltán Stieber</td>\n",
       "      <td>11</td>\n",
       "      <td>2</td>\n",
       "      <td>16/10/1988</td>\n",
       "      <td>Hamburg</td>\n",
       "    </tr>\n",
       "    <tr>\n",
       "      <td>18</td>\n",
       "      <td>Dániel Böde</td>\n",
       "      <td>12</td>\n",
       "      <td>4</td>\n",
       "      <td>24/10/1986</td>\n",
       "      <td>Ferencváros</td>\n",
       "    </tr>\n",
       "    <tr>\n",
       "      <td>19</td>\n",
       "      <td>Nemanja Nikolic</td>\n",
       "      <td>18</td>\n",
       "      <td>3</td>\n",
       "      <td>31/12/1987</td>\n",
       "      <td>Legia Warsaw</td>\n",
       "    </tr>\n",
       "    <tr>\n",
       "      <td>20</td>\n",
       "      <td>Krisztián Németh</td>\n",
       "      <td>24</td>\n",
       "      <td>3</td>\n",
       "      <td>05/01/1989</td>\n",
       "      <td>Al-Gharafa</td>\n",
       "    </tr>\n",
       "    <tr>\n",
       "      <td>21</td>\n",
       "      <td>Tamás Priskin</td>\n",
       "      <td>55</td>\n",
       "      <td>17</td>\n",
       "      <td>27/09/1986</td>\n",
       "      <td>Slovan Bratislava</td>\n",
       "    </tr>\n",
       "    <tr>\n",
       "      <td>22</td>\n",
       "      <td>Ádám Szalai</td>\n",
       "      <td>31</td>\n",
       "      <td>8</td>\n",
       "      <td>09/12/1987</td>\n",
       "      <td>Hoffenheim</td>\n",
       "    </tr>\n",
       "  </tbody>\n",
       "</table>\n",
       "</div>"
      ],
      "text/plain": [
       "                   name caps goals for country date of birth  \\\n",
       "0          Gábor Király  102                 0    01/04/1976   \n",
       "1          Dénes Dibusz    4                 0    16/11/1990   \n",
       "2         Péter Gulácsi    3                 0    06/05/1990   \n",
       "3         Barnabás Bese    0                 0    06/05/1994   \n",
       "4          Attila Fiola   14                 0    17/02/1990   \n",
       "5       Richárd Guzmics   13                 1    16/04/1987   \n",
       "6           Tamás Kádár   29                 0    14/03/1990   \n",
       "7         Mihály Korhut    4                 0    01/12/1988   \n",
       "8         Roland Juhász   91                 6    01/07/1983   \n",
       "9             Ádám Lang   10                 0    17/01/1993   \n",
       "10     Balázs Dzsudzsák   77                18    23/12/1986   \n",
       "11            Ákos Elek   38                 1    21/07/1988   \n",
       "12          Zoltán Gera   88                24    22/04/1979   \n",
       "13  László Kleinheisler    4                 1    08/04/1994   \n",
       "14    Gergő Lovrencsics   11                 1    01/09/1988   \n",
       "15            Ádám Nagy    7                 0    17/06/1995   \n",
       "16          Ádám Pintér   20                 0    12/06/1988   \n",
       "17       Zoltán Stieber   11                 2    16/10/1988   \n",
       "18          Dániel Böde   12                 4    24/10/1986   \n",
       "19      Nemanja Nikolic   18                 3    31/12/1987   \n",
       "20     Krisztián Németh   24                 3    05/01/1989   \n",
       "21        Tamás Priskin   55                17    27/09/1986   \n",
       "22          Ádám Szalai   31                 8    09/12/1987   \n",
       "\n",
       "                 club  \n",
       "0             Haladás  \n",
       "1         Ferencváros  \n",
       "2    Red Bull Leipzig  \n",
       "3                 MTK  \n",
       "4      Puskás Academy  \n",
       "5        Wisla Krakow  \n",
       "6         Lech Poznan  \n",
       "7       Debreceni VSC  \n",
       "8            Videoton  \n",
       "9            Videoton  \n",
       "10          Bursaspor  \n",
       "11      Diósgyőri VTK  \n",
       "12        Ferencváros  \n",
       "13      Werder Bremen  \n",
       "14        Lech Poznan  \n",
       "15        Ferencváros  \n",
       "16        Ferencváros  \n",
       "17            Hamburg  \n",
       "18        Ferencváros  \n",
       "19       Legia Warsaw  \n",
       "20         Al-Gharafa  \n",
       "21  Slovan Bratislava  \n",
       "22         Hoffenheim  "
      ]
     },
     "execution_count": 13,
     "metadata": {},
     "output_type": "execute_result"
    }
   ],
   "source": [
    "import pandas as pd\n",
    "tabla = pd.DataFrame(players)\n",
    "tabla.columns = keys\n",
    "tabla"
   ]
  },
  {
   "cell_type": "markdown",
   "metadata": {},
   "source": [
    "Other method: a Pandas data frame immediately"
   ]
  },
  {
   "cell_type": "code",
   "execution_count": 14,
   "metadata": {},
   "outputs": [
    {
     "data": {
      "text/html": [
       "<div>\n",
       "<style scoped>\n",
       "    .dataframe tbody tr th:only-of-type {\n",
       "        vertical-align: middle;\n",
       "    }\n",
       "\n",
       "    .dataframe tbody tr th {\n",
       "        vertical-align: top;\n",
       "    }\n",
       "\n",
       "    .dataframe thead th {\n",
       "        text-align: right;\n",
       "    }\n",
       "</style>\n",
       "<table border=\"1\" class=\"dataframe\">\n",
       "  <thead>\n",
       "    <tr style=\"text-align: right;\">\n",
       "      <th></th>\n",
       "      <th>name</th>\n",
       "      <th>caps</th>\n",
       "      <th>goals for country</th>\n",
       "      <th>date of birth</th>\n",
       "      <th>club</th>\n",
       "    </tr>\n",
       "  </thead>\n",
       "  <tbody>\n",
       "    <tr>\n",
       "      <td>0</td>\n",
       "      <td>Gábor Király</td>\n",
       "      <td>102</td>\n",
       "      <td>0</td>\n",
       "      <td>01/04/1976</td>\n",
       "      <td>Haladás</td>\n",
       "    </tr>\n",
       "    <tr>\n",
       "      <td>1</td>\n",
       "      <td>Dénes Dibusz</td>\n",
       "      <td>4</td>\n",
       "      <td>0</td>\n",
       "      <td>16/11/1990</td>\n",
       "      <td>Ferencváros</td>\n",
       "    </tr>\n",
       "    <tr>\n",
       "      <td>2</td>\n",
       "      <td>Péter Gulácsi</td>\n",
       "      <td>3</td>\n",
       "      <td>0</td>\n",
       "      <td>06/05/1990</td>\n",
       "      <td>Red Bull Leipzig</td>\n",
       "    </tr>\n",
       "    <tr>\n",
       "      <td>3</td>\n",
       "      <td>Barnabás Bese</td>\n",
       "      <td>0</td>\n",
       "      <td>0</td>\n",
       "      <td>06/05/1994</td>\n",
       "      <td>MTK</td>\n",
       "    </tr>\n",
       "    <tr>\n",
       "      <td>4</td>\n",
       "      <td>Attila Fiola</td>\n",
       "      <td>14</td>\n",
       "      <td>0</td>\n",
       "      <td>17/02/1990</td>\n",
       "      <td>Puskás Academy</td>\n",
       "    </tr>\n",
       "    <tr>\n",
       "      <td>5</td>\n",
       "      <td>Richárd Guzmics</td>\n",
       "      <td>13</td>\n",
       "      <td>1</td>\n",
       "      <td>16/04/1987</td>\n",
       "      <td>Wisla Krakow</td>\n",
       "    </tr>\n",
       "    <tr>\n",
       "      <td>6</td>\n",
       "      <td>Tamás Kádár</td>\n",
       "      <td>29</td>\n",
       "      <td>0</td>\n",
       "      <td>14/03/1990</td>\n",
       "      <td>Lech Poznan</td>\n",
       "    </tr>\n",
       "    <tr>\n",
       "      <td>7</td>\n",
       "      <td>Mihály Korhut</td>\n",
       "      <td>4</td>\n",
       "      <td>0</td>\n",
       "      <td>01/12/1988</td>\n",
       "      <td>Debreceni VSC</td>\n",
       "    </tr>\n",
       "    <tr>\n",
       "      <td>8</td>\n",
       "      <td>Roland Juhász</td>\n",
       "      <td>91</td>\n",
       "      <td>6</td>\n",
       "      <td>01/07/1983</td>\n",
       "      <td>Videoton</td>\n",
       "    </tr>\n",
       "    <tr>\n",
       "      <td>9</td>\n",
       "      <td>Ádám Lang</td>\n",
       "      <td>10</td>\n",
       "      <td>0</td>\n",
       "      <td>17/01/1993</td>\n",
       "      <td>Videoton</td>\n",
       "    </tr>\n",
       "    <tr>\n",
       "      <td>10</td>\n",
       "      <td>Balázs Dzsudzsák</td>\n",
       "      <td>77</td>\n",
       "      <td>18</td>\n",
       "      <td>23/12/1986</td>\n",
       "      <td>Bursaspor</td>\n",
       "    </tr>\n",
       "    <tr>\n",
       "      <td>11</td>\n",
       "      <td>Ákos Elek</td>\n",
       "      <td>38</td>\n",
       "      <td>1</td>\n",
       "      <td>21/07/1988</td>\n",
       "      <td>Diósgyőri VTK</td>\n",
       "    </tr>\n",
       "    <tr>\n",
       "      <td>12</td>\n",
       "      <td>Zoltán Gera</td>\n",
       "      <td>88</td>\n",
       "      <td>24</td>\n",
       "      <td>22/04/1979</td>\n",
       "      <td>Ferencváros</td>\n",
       "    </tr>\n",
       "    <tr>\n",
       "      <td>13</td>\n",
       "      <td>László Kleinheisler</td>\n",
       "      <td>4</td>\n",
       "      <td>1</td>\n",
       "      <td>08/04/1994</td>\n",
       "      <td>Werder Bremen</td>\n",
       "    </tr>\n",
       "    <tr>\n",
       "      <td>14</td>\n",
       "      <td>Gergő Lovrencsics</td>\n",
       "      <td>11</td>\n",
       "      <td>1</td>\n",
       "      <td>01/09/1988</td>\n",
       "      <td>Lech Poznan</td>\n",
       "    </tr>\n",
       "    <tr>\n",
       "      <td>15</td>\n",
       "      <td>Ádám Nagy</td>\n",
       "      <td>7</td>\n",
       "      <td>0</td>\n",
       "      <td>17/06/1995</td>\n",
       "      <td>Ferencváros</td>\n",
       "    </tr>\n",
       "    <tr>\n",
       "      <td>16</td>\n",
       "      <td>Ádám Pintér</td>\n",
       "      <td>20</td>\n",
       "      <td>0</td>\n",
       "      <td>12/06/1988</td>\n",
       "      <td>Ferencváros</td>\n",
       "    </tr>\n",
       "    <tr>\n",
       "      <td>17</td>\n",
       "      <td>Zoltán Stieber</td>\n",
       "      <td>11</td>\n",
       "      <td>2</td>\n",
       "      <td>16/10/1988</td>\n",
       "      <td>Hamburg</td>\n",
       "    </tr>\n",
       "    <tr>\n",
       "      <td>18</td>\n",
       "      <td>Dániel Böde</td>\n",
       "      <td>12</td>\n",
       "      <td>4</td>\n",
       "      <td>24/10/1986</td>\n",
       "      <td>Ferencváros</td>\n",
       "    </tr>\n",
       "    <tr>\n",
       "      <td>19</td>\n",
       "      <td>Nemanja Nikolic</td>\n",
       "      <td>18</td>\n",
       "      <td>3</td>\n",
       "      <td>31/12/1987</td>\n",
       "      <td>Legia Warsaw</td>\n",
       "    </tr>\n",
       "    <tr>\n",
       "      <td>20</td>\n",
       "      <td>Krisztián Németh</td>\n",
       "      <td>24</td>\n",
       "      <td>3</td>\n",
       "      <td>05/01/1989</td>\n",
       "      <td>Al-Gharafa</td>\n",
       "    </tr>\n",
       "    <tr>\n",
       "      <td>21</td>\n",
       "      <td>Tamás Priskin</td>\n",
       "      <td>55</td>\n",
       "      <td>17</td>\n",
       "      <td>27/09/1986</td>\n",
       "      <td>Slovan Bratislava</td>\n",
       "    </tr>\n",
       "    <tr>\n",
       "      <td>22</td>\n",
       "      <td>Ádám Szalai</td>\n",
       "      <td>31</td>\n",
       "      <td>8</td>\n",
       "      <td>09/12/1987</td>\n",
       "      <td>Hoffenheim</td>\n",
       "    </tr>\n",
       "  </tbody>\n",
       "</table>\n",
       "</div>"
      ],
      "text/plain": [
       "                   name caps goals for country date of birth  \\\n",
       "0          Gábor Király  102                 0    01/04/1976   \n",
       "1          Dénes Dibusz    4                 0    16/11/1990   \n",
       "2         Péter Gulácsi    3                 0    06/05/1990   \n",
       "3         Barnabás Bese    0                 0    06/05/1994   \n",
       "4          Attila Fiola   14                 0    17/02/1990   \n",
       "5       Richárd Guzmics   13                 1    16/04/1987   \n",
       "6           Tamás Kádár   29                 0    14/03/1990   \n",
       "7         Mihály Korhut    4                 0    01/12/1988   \n",
       "8         Roland Juhász   91                 6    01/07/1983   \n",
       "9             Ádám Lang   10                 0    17/01/1993   \n",
       "10     Balázs Dzsudzsák   77                18    23/12/1986   \n",
       "11            Ákos Elek   38                 1    21/07/1988   \n",
       "12          Zoltán Gera   88                24    22/04/1979   \n",
       "13  László Kleinheisler    4                 1    08/04/1994   \n",
       "14    Gergő Lovrencsics   11                 1    01/09/1988   \n",
       "15            Ádám Nagy    7                 0    17/06/1995   \n",
       "16          Ádám Pintér   20                 0    12/06/1988   \n",
       "17       Zoltán Stieber   11                 2    16/10/1988   \n",
       "18          Dániel Böde   12                 4    24/10/1986   \n",
       "19      Nemanja Nikolic   18                 3    31/12/1987   \n",
       "20     Krisztián Németh   24                 3    05/01/1989   \n",
       "21        Tamás Priskin   55                17    27/09/1986   \n",
       "22          Ádám Szalai   31                 8    09/12/1987   \n",
       "\n",
       "                 club  \n",
       "0             Haladás  \n",
       "1         Ferencváros  \n",
       "2    Red Bull Leipzig  \n",
       "3                 MTK  \n",
       "4      Puskás Academy  \n",
       "5        Wisla Krakow  \n",
       "6         Lech Poznan  \n",
       "7       Debreceni VSC  \n",
       "8            Videoton  \n",
       "9            Videoton  \n",
       "10          Bursaspor  \n",
       "11      Diósgyőri VTK  \n",
       "12        Ferencváros  \n",
       "13      Werder Bremen  \n",
       "14        Lech Poznan  \n",
       "15        Ferencváros  \n",
       "16        Ferencváros  \n",
       "17            Hamburg  \n",
       "18        Ferencváros  \n",
       "19       Legia Warsaw  \n",
       "20         Al-Gharafa  \n",
       "21  Slovan Bratislava  \n",
       "22         Hoffenheim  "
      ]
     },
     "execution_count": 14,
     "metadata": {},
     "output_type": "execute_result"
    }
   ],
   "source": [
    "pd.DataFrame(dict, columns = keys)"
   ]
  },
  {
   "cell_type": "markdown",
   "metadata": {},
   "source": [
    "Distribution of number of caps"
   ]
  },
  {
   "cell_type": "code",
   "execution_count": 15,
   "metadata": {},
   "outputs": [
    {
     "data": {
      "text/plain": [
       "<matplotlib.axes._subplots.AxesSubplot at 0x223fad81388>"
      ]
     },
     "execution_count": 15,
     "metadata": {},
     "output_type": "execute_result"
    },
    {
     "data": {
      "image/png": "[encoded data removed]",
      "text/plain": [
       "<Figure size 432x288 with 1 Axes>"
      ]
     },
     "metadata": {
      "needs_background": "light"
     },
     "output_type": "display_data"
    }
   ],
   "source": [
    "import matplotlib\n",
    "import matplotlib.pyplot as plt\n",
    "%matplotlib inline \n",
    "tabla['caps'].astype(int).hist(bins=range(0,110,5))"
   ]
  },
  {
   "cell_type": "markdown",
   "metadata": {},
   "source": [
    "Calculating that time age from date of birth"
   ]
  },
  {
   "cell_type": "code",
   "execution_count": 16,
   "metadata": {},
   "outputs": [],
   "source": [
    "from datetime import datetime\n",
    "def toage(birthstring):\n",
    "    born = datetime.strptime(birthstring, '%d/%m/%Y')\n",
    "    start = datetime(2016, 6, 10)\n",
    "    age = start.year - born.year - ((start.month, start.day) < (born.month, born.day))\n",
    "    return(age)"
   ]
  },
  {
   "cell_type": "markdown",
   "metadata": {},
   "source": [
    "Does it return the right age? Why?\n",
    "\n",
    "    age = start.year - born.year - ((start.month, start.day) < (born.month, born.day))"
   ]
  },
  {
   "cell_type": "markdown",
   "metadata": {},
   "source": [
    "We add a new column to the data frame using the previous function."
   ]
  },
  {
   "cell_type": "code",
   "execution_count": 17,
   "metadata": {},
   "outputs": [],
   "source": [
    "tabla['age'] = tabla.apply(lambda x: toage(x['date of birth']), axis=1)"
   ]
  },
  {
   "cell_type": "markdown",
   "metadata": {},
   "source": [
    "axis: 0 or ‘index’: apply function to each column.\n",
    "1 or ‘columns’: apply function to each row."
   ]
  },
  {
   "cell_type": "code",
   "execution_count": 18,
   "metadata": {},
   "outputs": [
    {
     "data": {
      "text/html": [
       "<div>\n",
       "<style scoped>\n",
       "    .dataframe tbody tr th:only-of-type {\n",
       "        vertical-align: middle;\n",
       "    }\n",
       "\n",
       "    .dataframe tbody tr th {\n",
       "        vertical-align: top;\n",
       "    }\n",
       "\n",
       "    .dataframe thead th {\n",
       "        text-align: right;\n",
       "    }\n",
       "</style>\n",
       "<table border=\"1\" class=\"dataframe\">\n",
       "  <thead>\n",
       "    <tr style=\"text-align: right;\">\n",
       "      <th></th>\n",
       "      <th>name</th>\n",
       "      <th>caps</th>\n",
       "      <th>goals for country</th>\n",
       "      <th>date of birth</th>\n",
       "      <th>club</th>\n",
       "      <th>age</th>\n",
       "    </tr>\n",
       "  </thead>\n",
       "  <tbody>\n",
       "    <tr>\n",
       "      <td>0</td>\n",
       "      <td>Gábor Király</td>\n",
       "      <td>102</td>\n",
       "      <td>0</td>\n",
       "      <td>01/04/1976</td>\n",
       "      <td>Haladás</td>\n",
       "      <td>40</td>\n",
       "    </tr>\n",
       "    <tr>\n",
       "      <td>1</td>\n",
       "      <td>Dénes Dibusz</td>\n",
       "      <td>4</td>\n",
       "      <td>0</td>\n",
       "      <td>16/11/1990</td>\n",
       "      <td>Ferencváros</td>\n",
       "      <td>25</td>\n",
       "    </tr>\n",
       "    <tr>\n",
       "      <td>2</td>\n",
       "      <td>Péter Gulácsi</td>\n",
       "      <td>3</td>\n",
       "      <td>0</td>\n",
       "      <td>06/05/1990</td>\n",
       "      <td>Red Bull Leipzig</td>\n",
       "      <td>26</td>\n",
       "    </tr>\n",
       "    <tr>\n",
       "      <td>3</td>\n",
       "      <td>Barnabás Bese</td>\n",
       "      <td>0</td>\n",
       "      <td>0</td>\n",
       "      <td>06/05/1994</td>\n",
       "      <td>MTK</td>\n",
       "      <td>22</td>\n",
       "    </tr>\n",
       "    <tr>\n",
       "      <td>4</td>\n",
       "      <td>Attila Fiola</td>\n",
       "      <td>14</td>\n",
       "      <td>0</td>\n",
       "      <td>17/02/1990</td>\n",
       "      <td>Puskás Academy</td>\n",
       "      <td>26</td>\n",
       "    </tr>\n",
       "    <tr>\n",
       "      <td>5</td>\n",
       "      <td>Richárd Guzmics</td>\n",
       "      <td>13</td>\n",
       "      <td>1</td>\n",
       "      <td>16/04/1987</td>\n",
       "      <td>Wisla Krakow</td>\n",
       "      <td>29</td>\n",
       "    </tr>\n",
       "    <tr>\n",
       "      <td>6</td>\n",
       "      <td>Tamás Kádár</td>\n",
       "      <td>29</td>\n",
       "      <td>0</td>\n",
       "      <td>14/03/1990</td>\n",
       "      <td>Lech Poznan</td>\n",
       "      <td>26</td>\n",
       "    </tr>\n",
       "    <tr>\n",
       "      <td>7</td>\n",
       "      <td>Mihály Korhut</td>\n",
       "      <td>4</td>\n",
       "      <td>0</td>\n",
       "      <td>01/12/1988</td>\n",
       "      <td>Debreceni VSC</td>\n",
       "      <td>27</td>\n",
       "    </tr>\n",
       "    <tr>\n",
       "      <td>8</td>\n",
       "      <td>Roland Juhász</td>\n",
       "      <td>91</td>\n",
       "      <td>6</td>\n",
       "      <td>01/07/1983</td>\n",
       "      <td>Videoton</td>\n",
       "      <td>32</td>\n",
       "    </tr>\n",
       "    <tr>\n",
       "      <td>9</td>\n",
       "      <td>Ádám Lang</td>\n",
       "      <td>10</td>\n",
       "      <td>0</td>\n",
       "      <td>17/01/1993</td>\n",
       "      <td>Videoton</td>\n",
       "      <td>23</td>\n",
       "    </tr>\n",
       "    <tr>\n",
       "      <td>10</td>\n",
       "      <td>Balázs Dzsudzsák</td>\n",
       "      <td>77</td>\n",
       "      <td>18</td>\n",
       "      <td>23/12/1986</td>\n",
       "      <td>Bursaspor</td>\n",
       "      <td>29</td>\n",
       "    </tr>\n",
       "    <tr>\n",
       "      <td>11</td>\n",
       "      <td>Ákos Elek</td>\n",
       "      <td>38</td>\n",
       "      <td>1</td>\n",
       "      <td>21/07/1988</td>\n",
       "      <td>Diósgyőri VTK</td>\n",
       "      <td>27</td>\n",
       "    </tr>\n",
       "    <tr>\n",
       "      <td>12</td>\n",
       "      <td>Zoltán Gera</td>\n",
       "      <td>88</td>\n",
       "      <td>24</td>\n",
       "      <td>22/04/1979</td>\n",
       "      <td>Ferencváros</td>\n",
       "      <td>37</td>\n",
       "    </tr>\n",
       "    <tr>\n",
       "      <td>13</td>\n",
       "      <td>László Kleinheisler</td>\n",
       "      <td>4</td>\n",
       "      <td>1</td>\n",
       "      <td>08/04/1994</td>\n",
       "      <td>Werder Bremen</td>\n",
       "      <td>22</td>\n",
       "    </tr>\n",
       "    <tr>\n",
       "      <td>14</td>\n",
       "      <td>Gergő Lovrencsics</td>\n",
       "      <td>11</td>\n",
       "      <td>1</td>\n",
       "      <td>01/09/1988</td>\n",
       "      <td>Lech Poznan</td>\n",
       "      <td>27</td>\n",
       "    </tr>\n",
       "    <tr>\n",
       "      <td>15</td>\n",
       "      <td>Ádám Nagy</td>\n",
       "      <td>7</td>\n",
       "      <td>0</td>\n",
       "      <td>17/06/1995</td>\n",
       "      <td>Ferencváros</td>\n",
       "      <td>20</td>\n",
       "    </tr>\n",
       "    <tr>\n",
       "      <td>16</td>\n",
       "      <td>Ádám Pintér</td>\n",
       "      <td>20</td>\n",
       "      <td>0</td>\n",
       "      <td>12/06/1988</td>\n",
       "      <td>Ferencváros</td>\n",
       "      <td>27</td>\n",
       "    </tr>\n",
       "    <tr>\n",
       "      <td>17</td>\n",
       "      <td>Zoltán Stieber</td>\n",
       "      <td>11</td>\n",
       "      <td>2</td>\n",
       "      <td>16/10/1988</td>\n",
       "      <td>Hamburg</td>\n",
       "      <td>27</td>\n",
       "    </tr>\n",
       "    <tr>\n",
       "      <td>18</td>\n",
       "      <td>Dániel Böde</td>\n",
       "      <td>12</td>\n",
       "      <td>4</td>\n",
       "      <td>24/10/1986</td>\n",
       "      <td>Ferencváros</td>\n",
       "      <td>29</td>\n",
       "    </tr>\n",
       "    <tr>\n",
       "      <td>19</td>\n",
       "      <td>Nemanja Nikolic</td>\n",
       "      <td>18</td>\n",
       "      <td>3</td>\n",
       "      <td>31/12/1987</td>\n",
       "      <td>Legia Warsaw</td>\n",
       "      <td>28</td>\n",
       "    </tr>\n",
       "    <tr>\n",
       "      <td>20</td>\n",
       "      <td>Krisztián Németh</td>\n",
       "      <td>24</td>\n",
       "      <td>3</td>\n",
       "      <td>05/01/1989</td>\n",
       "      <td>Al-Gharafa</td>\n",
       "      <td>27</td>\n",
       "    </tr>\n",
       "    <tr>\n",
       "      <td>21</td>\n",
       "      <td>Tamás Priskin</td>\n",
       "      <td>55</td>\n",
       "      <td>17</td>\n",
       "      <td>27/09/1986</td>\n",
       "      <td>Slovan Bratislava</td>\n",
       "      <td>29</td>\n",
       "    </tr>\n",
       "    <tr>\n",
       "      <td>22</td>\n",
       "      <td>Ádám Szalai</td>\n",
       "      <td>31</td>\n",
       "      <td>8</td>\n",
       "      <td>09/12/1987</td>\n",
       "      <td>Hoffenheim</td>\n",
       "      <td>28</td>\n",
       "    </tr>\n",
       "  </tbody>\n",
       "</table>\n",
       "</div>"
      ],
      "text/plain": [
       "                   name caps goals for country date of birth  \\\n",
       "0          Gábor Király  102                 0    01/04/1976   \n",
       "1          Dénes Dibusz    4                 0    16/11/1990   \n",
       "2         Péter Gulácsi    3                 0    06/05/1990   \n",
       "3         Barnabás Bese    0                 0    06/05/1994   \n",
       "4          Attila Fiola   14                 0    17/02/1990   \n",
       "5       Richárd Guzmics   13                 1    16/04/1987   \n",
       "6           Tamás Kádár   29                 0    14/03/1990   \n",
       "7         Mihály Korhut    4                 0    01/12/1988   \n",
       "8         Roland Juhász   91                 6    01/07/1983   \n",
       "9             Ádám Lang   10                 0    17/01/1993   \n",
       "10     Balázs Dzsudzsák   77                18    23/12/1986   \n",
       "11            Ákos Elek   38                 1    21/07/1988   \n",
       "12          Zoltán Gera   88                24    22/04/1979   \n",
       "13  László Kleinheisler    4                 1    08/04/1994   \n",
       "14    Gergő Lovrencsics   11                 1    01/09/1988   \n",
       "15            Ádám Nagy    7                 0    17/06/1995   \n",
       "16          Ádám Pintér   20                 0    12/06/1988   \n",
       "17       Zoltán Stieber   11                 2    16/10/1988   \n",
       "18          Dániel Böde   12                 4    24/10/1986   \n",
       "19      Nemanja Nikolic   18                 3    31/12/1987   \n",
       "20     Krisztián Németh   24                 3    05/01/1989   \n",
       "21        Tamás Priskin   55                17    27/09/1986   \n",
       "22          Ádám Szalai   31                 8    09/12/1987   \n",
       "\n",
       "                 club  age  \n",
       "0             Haladás   40  \n",
       "1         Ferencváros   25  \n",
       "2    Red Bull Leipzig   26  \n",
       "3                 MTK   22  \n",
       "4      Puskás Academy   26  \n",
       "5        Wisla Krakow   29  \n",
       "6         Lech Poznan   26  \n",
       "7       Debreceni VSC   27  \n",
       "8            Videoton   32  \n",
       "9            Videoton   23  \n",
       "10          Bursaspor   29  \n",
       "11      Diósgyőri VTK   27  \n",
       "12        Ferencváros   37  \n",
       "13      Werder Bremen   22  \n",
       "14        Lech Poznan   27  \n",
       "15        Ferencváros   20  \n",
       "16        Ferencváros   27  \n",
       "17            Hamburg   27  \n",
       "18        Ferencváros   29  \n",
       "19       Legia Warsaw   28  \n",
       "20         Al-Gharafa   27  \n",
       "21  Slovan Bratislava   29  \n",
       "22         Hoffenheim   28  "
      ]
     },
     "execution_count": 18,
     "metadata": {},
     "output_type": "execute_result"
    }
   ],
   "source": [
    "tabla"
   ]
  },
  {
   "cell_type": "markdown",
   "metadata": {},
   "source": [
    "Another way to add a new column"
   ]
  },
  {
   "cell_type": "code",
   "execution_count": 19,
   "metadata": {},
   "outputs": [],
   "source": [
    "tabla = tabla.assign(goal_per_caps = lambda x: (x['goals for country'].astype(int))/(x['caps'].astype(int)) )"
   ]
  },
  {
   "cell_type": "code",
   "execution_count": 20,
   "metadata": {},
   "outputs": [
    {
     "data": {
      "text/html": [
       "<div>\n",
       "<style scoped>\n",
       "    .dataframe tbody tr th:only-of-type {\n",
       "        vertical-align: middle;\n",
       "    }\n",
       "\n",
       "    .dataframe tbody tr th {\n",
       "        vertical-align: top;\n",
       "    }\n",
       "\n",
       "    .dataframe thead th {\n",
       "        text-align: right;\n",
       "    }\n",
       "</style>\n",
       "<table border=\"1\" class=\"dataframe\">\n",
       "  <thead>\n",
       "    <tr style=\"text-align: right;\">\n",
       "      <th></th>\n",
       "      <th>name</th>\n",
       "      <th>caps</th>\n",
       "      <th>goals for country</th>\n",
       "      <th>date of birth</th>\n",
       "      <th>club</th>\n",
       "      <th>age</th>\n",
       "      <th>goal_per_caps</th>\n",
       "    </tr>\n",
       "  </thead>\n",
       "  <tbody>\n",
       "    <tr>\n",
       "      <td>0</td>\n",
       "      <td>Gábor Király</td>\n",
       "      <td>102</td>\n",
       "      <td>0</td>\n",
       "      <td>01/04/1976</td>\n",
       "      <td>Haladás</td>\n",
       "      <td>40</td>\n",
       "      <td>0.000000</td>\n",
       "    </tr>\n",
       "    <tr>\n",
       "      <td>1</td>\n",
       "      <td>Dénes Dibusz</td>\n",
       "      <td>4</td>\n",
       "      <td>0</td>\n",
       "      <td>16/11/1990</td>\n",
       "      <td>Ferencváros</td>\n",
       "      <td>25</td>\n",
       "      <td>0.000000</td>\n",
       "    </tr>\n",
       "    <tr>\n",
       "      <td>2</td>\n",
       "      <td>Péter Gulácsi</td>\n",
       "      <td>3</td>\n",
       "      <td>0</td>\n",
       "      <td>06/05/1990</td>\n",
       "      <td>Red Bull Leipzig</td>\n",
       "      <td>26</td>\n",
       "      <td>0.000000</td>\n",
       "    </tr>\n",
       "    <tr>\n",
       "      <td>3</td>\n",
       "      <td>Barnabás Bese</td>\n",
       "      <td>0</td>\n",
       "      <td>0</td>\n",
       "      <td>06/05/1994</td>\n",
       "      <td>MTK</td>\n",
       "      <td>22</td>\n",
       "      <td>NaN</td>\n",
       "    </tr>\n",
       "    <tr>\n",
       "      <td>4</td>\n",
       "      <td>Attila Fiola</td>\n",
       "      <td>14</td>\n",
       "      <td>0</td>\n",
       "      <td>17/02/1990</td>\n",
       "      <td>Puskás Academy</td>\n",
       "      <td>26</td>\n",
       "      <td>0.000000</td>\n",
       "    </tr>\n",
       "    <tr>\n",
       "      <td>5</td>\n",
       "      <td>Richárd Guzmics</td>\n",
       "      <td>13</td>\n",
       "      <td>1</td>\n",
       "      <td>16/04/1987</td>\n",
       "      <td>Wisla Krakow</td>\n",
       "      <td>29</td>\n",
       "      <td>0.076923</td>\n",
       "    </tr>\n",
       "    <tr>\n",
       "      <td>6</td>\n",
       "      <td>Tamás Kádár</td>\n",
       "      <td>29</td>\n",
       "      <td>0</td>\n",
       "      <td>14/03/1990</td>\n",
       "      <td>Lech Poznan</td>\n",
       "      <td>26</td>\n",
       "      <td>0.000000</td>\n",
       "    </tr>\n",
       "    <tr>\n",
       "      <td>7</td>\n",
       "      <td>Mihály Korhut</td>\n",
       "      <td>4</td>\n",
       "      <td>0</td>\n",
       "      <td>01/12/1988</td>\n",
       "      <td>Debreceni VSC</td>\n",
       "      <td>27</td>\n",
       "      <td>0.000000</td>\n",
       "    </tr>\n",
       "    <tr>\n",
       "      <td>8</td>\n",
       "      <td>Roland Juhász</td>\n",
       "      <td>91</td>\n",
       "      <td>6</td>\n",
       "      <td>01/07/1983</td>\n",
       "      <td>Videoton</td>\n",
       "      <td>32</td>\n",
       "      <td>0.065934</td>\n",
       "    </tr>\n",
       "    <tr>\n",
       "      <td>9</td>\n",
       "      <td>Ádám Lang</td>\n",
       "      <td>10</td>\n",
       "      <td>0</td>\n",
       "      <td>17/01/1993</td>\n",
       "      <td>Videoton</td>\n",
       "      <td>23</td>\n",
       "      <td>0.000000</td>\n",
       "    </tr>\n",
       "    <tr>\n",
       "      <td>10</td>\n",
       "      <td>Balázs Dzsudzsák</td>\n",
       "      <td>77</td>\n",
       "      <td>18</td>\n",
       "      <td>23/12/1986</td>\n",
       "      <td>Bursaspor</td>\n",
       "      <td>29</td>\n",
       "      <td>0.233766</td>\n",
       "    </tr>\n",
       "    <tr>\n",
       "      <td>11</td>\n",
       "      <td>Ákos Elek</td>\n",
       "      <td>38</td>\n",
       "      <td>1</td>\n",
       "      <td>21/07/1988</td>\n",
       "      <td>Diósgyőri VTK</td>\n",
       "      <td>27</td>\n",
       "      <td>0.026316</td>\n",
       "    </tr>\n",
       "    <tr>\n",
       "      <td>12</td>\n",
       "      <td>Zoltán Gera</td>\n",
       "      <td>88</td>\n",
       "      <td>24</td>\n",
       "      <td>22/04/1979</td>\n",
       "      <td>Ferencváros</td>\n",
       "      <td>37</td>\n",
       "      <td>0.272727</td>\n",
       "    </tr>\n",
       "    <tr>\n",
       "      <td>13</td>\n",
       "      <td>László Kleinheisler</td>\n",
       "      <td>4</td>\n",
       "      <td>1</td>\n",
       "      <td>08/04/1994</td>\n",
       "      <td>Werder Bremen</td>\n",
       "      <td>22</td>\n",
       "      <td>0.250000</td>\n",
       "    </tr>\n",
       "    <tr>\n",
       "      <td>14</td>\n",
       "      <td>Gergő Lovrencsics</td>\n",
       "      <td>11</td>\n",
       "      <td>1</td>\n",
       "      <td>01/09/1988</td>\n",
       "      <td>Lech Poznan</td>\n",
       "      <td>27</td>\n",
       "      <td>0.090909</td>\n",
       "    </tr>\n",
       "    <tr>\n",
       "      <td>15</td>\n",
       "      <td>Ádám Nagy</td>\n",
       "      <td>7</td>\n",
       "      <td>0</td>\n",
       "      <td>17/06/1995</td>\n",
       "      <td>Ferencváros</td>\n",
       "      <td>20</td>\n",
       "      <td>0.000000</td>\n",
       "    </tr>\n",
       "    <tr>\n",
       "      <td>16</td>\n",
       "      <td>Ádám Pintér</td>\n",
       "      <td>20</td>\n",
       "      <td>0</td>\n",
       "      <td>12/06/1988</td>\n",
       "      <td>Ferencváros</td>\n",
       "      <td>27</td>\n",
       "      <td>0.000000</td>\n",
       "    </tr>\n",
       "    <tr>\n",
       "      <td>17</td>\n",
       "      <td>Zoltán Stieber</td>\n",
       "      <td>11</td>\n",
       "      <td>2</td>\n",
       "      <td>16/10/1988</td>\n",
       "      <td>Hamburg</td>\n",
       "      <td>27</td>\n",
       "      <td>0.181818</td>\n",
       "    </tr>\n",
       "    <tr>\n",
       "      <td>18</td>\n",
       "      <td>Dániel Böde</td>\n",
       "      <td>12</td>\n",
       "      <td>4</td>\n",
       "      <td>24/10/1986</td>\n",
       "      <td>Ferencváros</td>\n",
       "      <td>29</td>\n",
       "      <td>0.333333</td>\n",
       "    </tr>\n",
       "    <tr>\n",
       "      <td>19</td>\n",
       "      <td>Nemanja Nikolic</td>\n",
       "      <td>18</td>\n",
       "      <td>3</td>\n",
       "      <td>31/12/1987</td>\n",
       "      <td>Legia Warsaw</td>\n",
       "      <td>28</td>\n",
       "      <td>0.166667</td>\n",
       "    </tr>\n",
       "    <tr>\n",
       "      <td>20</td>\n",
       "      <td>Krisztián Németh</td>\n",
       "      <td>24</td>\n",
       "      <td>3</td>\n",
       "      <td>05/01/1989</td>\n",
       "      <td>Al-Gharafa</td>\n",
       "      <td>27</td>\n",
       "      <td>0.125000</td>\n",
       "    </tr>\n",
       "    <tr>\n",
       "      <td>21</td>\n",
       "      <td>Tamás Priskin</td>\n",
       "      <td>55</td>\n",
       "      <td>17</td>\n",
       "      <td>27/09/1986</td>\n",
       "      <td>Slovan Bratislava</td>\n",
       "      <td>29</td>\n",
       "      <td>0.309091</td>\n",
       "    </tr>\n",
       "    <tr>\n",
       "      <td>22</td>\n",
       "      <td>Ádám Szalai</td>\n",
       "      <td>31</td>\n",
       "      <td>8</td>\n",
       "      <td>09/12/1987</td>\n",
       "      <td>Hoffenheim</td>\n",
       "      <td>28</td>\n",
       "      <td>0.258065</td>\n",
       "    </tr>\n",
       "  </tbody>\n",
       "</table>\n",
       "</div>"
      ],
      "text/plain": [
       "                   name caps goals for country date of birth  \\\n",
       "0          Gábor Király  102                 0    01/04/1976   \n",
       "1          Dénes Dibusz    4                 0    16/11/1990   \n",
       "2         Péter Gulácsi    3                 0    06/05/1990   \n",
       "3         Barnabás Bese    0                 0    06/05/1994   \n",
       "4          Attila Fiola   14                 0    17/02/1990   \n",
       "5       Richárd Guzmics   13                 1    16/04/1987   \n",
       "6           Tamás Kádár   29                 0    14/03/1990   \n",
       "7         Mihály Korhut    4                 0    01/12/1988   \n",
       "8         Roland Juhász   91                 6    01/07/1983   \n",
       "9             Ádám Lang   10                 0    17/01/1993   \n",
       "10     Balázs Dzsudzsák   77                18    23/12/1986   \n",
       "11            Ákos Elek   38                 1    21/07/1988   \n",
       "12          Zoltán Gera   88                24    22/04/1979   \n",
       "13  László Kleinheisler    4                 1    08/04/1994   \n",
       "14    Gergő Lovrencsics   11                 1    01/09/1988   \n",
       "15            Ádám Nagy    7                 0    17/06/1995   \n",
       "16          Ádám Pintér   20                 0    12/06/1988   \n",
       "17       Zoltán Stieber   11                 2    16/10/1988   \n",
       "18          Dániel Böde   12                 4    24/10/1986   \n",
       "19      Nemanja Nikolic   18                 3    31/12/1987   \n",
       "20     Krisztián Németh   24                 3    05/01/1989   \n",
       "21        Tamás Priskin   55                17    27/09/1986   \n",
       "22          Ádám Szalai   31                 8    09/12/1987   \n",
       "\n",
       "                 club  age  goal_per_caps  \n",
       "0             Haladás   40       0.000000  \n",
       "1         Ferencváros   25       0.000000  \n",
       "2    Red Bull Leipzig   26       0.000000  \n",
       "3                 MTK   22            NaN  \n",
       "4      Puskás Academy   26       0.000000  \n",
       "5        Wisla Krakow   29       0.076923  \n",
       "6         Lech Poznan   26       0.000000  \n",
       "7       Debreceni VSC   27       0.000000  \n",
       "8            Videoton   32       0.065934  \n",
       "9            Videoton   23       0.000000  \n",
       "10          Bursaspor   29       0.233766  \n",
       "11      Diósgyőri VTK   27       0.026316  \n",
       "12        Ferencváros   37       0.272727  \n",
       "13      Werder Bremen   22       0.250000  \n",
       "14        Lech Poznan   27       0.090909  \n",
       "15        Ferencváros   20       0.000000  \n",
       "16        Ferencváros   27       0.000000  \n",
       "17            Hamburg   27       0.181818  \n",
       "18        Ferencváros   29       0.333333  \n",
       "19       Legia Warsaw   28       0.166667  \n",
       "20         Al-Gharafa   27       0.125000  \n",
       "21  Slovan Bratislava   29       0.309091  \n",
       "22         Hoffenheim   28       0.258065  "
      ]
     },
     "execution_count": 20,
     "metadata": {},
     "output_type": "execute_result"
    }
   ],
   "source": [
    "tabla"
   ]
  },
  {
   "cell_type": "markdown",
   "metadata": {},
   "source": [
    "### Classification"
   ]
  },
  {
   "cell_type": "markdown",
   "metadata": {},
   "source": [
    "#### Importing data"
   ]
  },
  {
   "cell_type": "code",
   "execution_count": 21,
   "metadata": {},
   "outputs": [],
   "source": [
    "import pandas as pd\n",
    "bank_data = pd.read_csv(\"../Data/bank.csv\", delimiter = \" \", names = ['age', 'sex', 'region', 'income', 'married', 'children', 'car','save_acct', 'current_acct', 'mortgage', 'pep'])"
   ]
  },
  {
   "cell_type": "markdown",
   "metadata": {},
   "source": [
    "We have already worked with this data, the attributes\n",
    "\n",
    "* age: age of customer in years (numeric)\n",
    "* sex: MALE / FEMALE\n",
    "* region: inner_city/rural/suburban/town\n",
    "* income: income of customer (numeric)\n",
    "* married: is the customer married (YES/NO)\n",
    "* children: number of children (numeric)\n",
    "* car: does the customer own a car (YES/NO)\n",
    "* save_acct: does the customer have a saving account (YES/NO)\n",
    "* current_acct: does the customer have a current account (YES/NO)\n",
    "* mortgage: does the customer have a mortgage (YES/NO)\n",
    "* **pep: did the customer buy a PEP (Personal Equity Plan) after the last mailing (YES/NO)**"
   ]
  },
  {
   "cell_type": "code",
   "execution_count": 22,
   "metadata": {},
   "outputs": [
    {
     "data": {
      "text/html": [
       "<div>\n",
       "<style scoped>\n",
       "    .dataframe tbody tr th:only-of-type {\n",
       "        vertical-align: middle;\n",
       "    }\n",
       "\n",
       "    .dataframe tbody tr th {\n",
       "        vertical-align: top;\n",
       "    }\n",
       "\n",
       "    .dataframe thead th {\n",
       "        text-align: right;\n",
       "    }\n",
       "</style>\n",
       "<table border=\"1\" class=\"dataframe\">\n",
       "  <thead>\n",
       "    <tr style=\"text-align: right;\">\n",
       "      <th></th>\n",
       "      <th>age</th>\n",
       "      <th>sex</th>\n",
       "      <th>region</th>\n",
       "      <th>income</th>\n",
       "      <th>married</th>\n",
       "      <th>children</th>\n",
       "      <th>car</th>\n",
       "      <th>save_acct</th>\n",
       "      <th>current_acct</th>\n",
       "      <th>mortgage</th>\n",
       "      <th>pep</th>\n",
       "    </tr>\n",
       "  </thead>\n",
       "  <tbody>\n",
       "    <tr>\n",
       "      <td>0</td>\n",
       "      <td>48</td>\n",
       "      <td>FEMALE</td>\n",
       "      <td>INNER_CITY</td>\n",
       "      <td>17546.0</td>\n",
       "      <td>NO</td>\n",
       "      <td>1</td>\n",
       "      <td>NO</td>\n",
       "      <td>NO</td>\n",
       "      <td>NO</td>\n",
       "      <td>NO</td>\n",
       "      <td>YES</td>\n",
       "    </tr>\n",
       "    <tr>\n",
       "      <td>1</td>\n",
       "      <td>40</td>\n",
       "      <td>MALE</td>\n",
       "      <td>TOWN</td>\n",
       "      <td>30085.1</td>\n",
       "      <td>YES</td>\n",
       "      <td>3</td>\n",
       "      <td>YES</td>\n",
       "      <td>NO</td>\n",
       "      <td>YES</td>\n",
       "      <td>YES</td>\n",
       "      <td>NO</td>\n",
       "    </tr>\n",
       "    <tr>\n",
       "      <td>2</td>\n",
       "      <td>51</td>\n",
       "      <td>FEMALE</td>\n",
       "      <td>INNER_CITY</td>\n",
       "      <td>16575.4</td>\n",
       "      <td>YES</td>\n",
       "      <td>0</td>\n",
       "      <td>YES</td>\n",
       "      <td>YES</td>\n",
       "      <td>YES</td>\n",
       "      <td>NO</td>\n",
       "      <td>NO</td>\n",
       "    </tr>\n",
       "    <tr>\n",
       "      <td>3</td>\n",
       "      <td>23</td>\n",
       "      <td>FEMALE</td>\n",
       "      <td>TOWN</td>\n",
       "      <td>20375.4</td>\n",
       "      <td>YES</td>\n",
       "      <td>3</td>\n",
       "      <td>NO</td>\n",
       "      <td>NO</td>\n",
       "      <td>YES</td>\n",
       "      <td>NO</td>\n",
       "      <td>NO</td>\n",
       "    </tr>\n",
       "    <tr>\n",
       "      <td>4</td>\n",
       "      <td>57</td>\n",
       "      <td>FEMALE</td>\n",
       "      <td>RURAL</td>\n",
       "      <td>50576.3</td>\n",
       "      <td>YES</td>\n",
       "      <td>0</td>\n",
       "      <td>NO</td>\n",
       "      <td>YES</td>\n",
       "      <td>NO</td>\n",
       "      <td>NO</td>\n",
       "      <td>NO</td>\n",
       "    </tr>\n",
       "  </tbody>\n",
       "</table>\n",
       "</div>"
      ],
      "text/plain": [
       "   age     sex      region   income married  children  car save_acct  \\\n",
       "0   48  FEMALE  INNER_CITY  17546.0      NO         1   NO        NO   \n",
       "1   40    MALE        TOWN  30085.1     YES         3  YES        NO   \n",
       "2   51  FEMALE  INNER_CITY  16575.4     YES         0  YES       YES   \n",
       "3   23  FEMALE        TOWN  20375.4     YES         3   NO        NO   \n",
       "4   57  FEMALE       RURAL  50576.3     YES         0   NO       YES   \n",
       "\n",
       "  current_acct mortgage  pep  \n",
       "0           NO       NO  YES  \n",
       "1          YES      YES   NO  \n",
       "2          YES       NO   NO  \n",
       "3          YES       NO   NO  \n",
       "4           NO       NO   NO  "
      ]
     },
     "execution_count": 22,
     "metadata": {},
     "output_type": "execute_result"
    }
   ],
   "source": [
    "bank_data.head()"
   ]
  },
  {
   "cell_type": "code",
   "execution_count": 23,
   "metadata": {},
   "outputs": [
    {
     "data": {
      "text/plain": [
       "(600, 11)"
      ]
     },
     "execution_count": 23,
     "metadata": {},
     "output_type": "execute_result"
    }
   ],
   "source": [
    "bank_data.shape"
   ]
  },
  {
   "cell_type": "code",
   "execution_count": 24,
   "metadata": {},
   "outputs": [
    {
     "data": {
      "text/html": [
       "<div>\n",
       "<style scoped>\n",
       "    .dataframe tbody tr th:only-of-type {\n",
       "        vertical-align: middle;\n",
       "    }\n",
       "\n",
       "    .dataframe tbody tr th {\n",
       "        vertical-align: top;\n",
       "    }\n",
       "\n",
       "    .dataframe thead th {\n",
       "        text-align: right;\n",
       "    }\n",
       "</style>\n",
       "<table border=\"1\" class=\"dataframe\">\n",
       "  <thead>\n",
       "    <tr style=\"text-align: right;\">\n",
       "      <th></th>\n",
       "      <th>age</th>\n",
       "      <th>sex</th>\n",
       "      <th>region</th>\n",
       "      <th>income</th>\n",
       "      <th>married</th>\n",
       "      <th>children</th>\n",
       "      <th>car</th>\n",
       "      <th>save_acct</th>\n",
       "      <th>current_acct</th>\n",
       "      <th>mortgage</th>\n",
       "      <th>pep</th>\n",
       "    </tr>\n",
       "  </thead>\n",
       "  <tbody>\n",
       "    <tr>\n",
       "      <td>0</td>\n",
       "      <td>48</td>\n",
       "      <td>1</td>\n",
       "      <td>INNER_CITY</td>\n",
       "      <td>17546.0</td>\n",
       "      <td>0</td>\n",
       "      <td>1</td>\n",
       "      <td>0</td>\n",
       "      <td>0</td>\n",
       "      <td>0</td>\n",
       "      <td>0</td>\n",
       "      <td>1</td>\n",
       "    </tr>\n",
       "    <tr>\n",
       "      <td>1</td>\n",
       "      <td>40</td>\n",
       "      <td>0</td>\n",
       "      <td>TOWN</td>\n",
       "      <td>30085.1</td>\n",
       "      <td>1</td>\n",
       "      <td>3</td>\n",
       "      <td>1</td>\n",
       "      <td>0</td>\n",
       "      <td>1</td>\n",
       "      <td>1</td>\n",
       "      <td>0</td>\n",
       "    </tr>\n",
       "    <tr>\n",
       "      <td>2</td>\n",
       "      <td>51</td>\n",
       "      <td>1</td>\n",
       "      <td>INNER_CITY</td>\n",
       "      <td>16575.4</td>\n",
       "      <td>1</td>\n",
       "      <td>0</td>\n",
       "      <td>1</td>\n",
       "      <td>1</td>\n",
       "      <td>1</td>\n",
       "      <td>0</td>\n",
       "      <td>0</td>\n",
       "    </tr>\n",
       "    <tr>\n",
       "      <td>3</td>\n",
       "      <td>23</td>\n",
       "      <td>1</td>\n",
       "      <td>TOWN</td>\n",
       "      <td>20375.4</td>\n",
       "      <td>1</td>\n",
       "      <td>3</td>\n",
       "      <td>0</td>\n",
       "      <td>0</td>\n",
       "      <td>1</td>\n",
       "      <td>0</td>\n",
       "      <td>0</td>\n",
       "    </tr>\n",
       "    <tr>\n",
       "      <td>4</td>\n",
       "      <td>57</td>\n",
       "      <td>1</td>\n",
       "      <td>RURAL</td>\n",
       "      <td>50576.3</td>\n",
       "      <td>1</td>\n",
       "      <td>0</td>\n",
       "      <td>0</td>\n",
       "      <td>1</td>\n",
       "      <td>0</td>\n",
       "      <td>0</td>\n",
       "      <td>0</td>\n",
       "    </tr>\n",
       "  </tbody>\n",
       "</table>\n",
       "</div>"
      ],
      "text/plain": [
       "   age  sex      region   income  married  children  car  save_acct  \\\n",
       "0   48    1  INNER_CITY  17546.0        0         1    0          0   \n",
       "1   40    0        TOWN  30085.1        1         3    1          0   \n",
       "2   51    1  INNER_CITY  16575.4        1         0    1          1   \n",
       "3   23    1        TOWN  20375.4        1         3    0          0   \n",
       "4   57    1       RURAL  50576.3        1         0    0          1   \n",
       "\n",
       "   current_acct  mortgage  pep  \n",
       "0             0         0    1  \n",
       "1             1         1    0  \n",
       "2             1         0    0  \n",
       "3             1         0    0  \n",
       "4             0         0    0  "
      ]
     },
     "execution_count": 24,
     "metadata": {},
     "output_type": "execute_result"
    }
   ],
   "source": [
    "numeric_data = bank_data.replace(['NO', 'YES', 'MALE', 'FEMALE'],[0,1,0,1])\n",
    "numeric_data.head()"
   ]
  },
  {
   "cell_type": "markdown",
   "metadata": {},
   "source": [
    "Transforming to numpy array format"
   ]
  },
  {
   "cell_type": "code",
   "execution_count": 25,
   "metadata": {},
   "outputs": [],
   "source": [
    "import numpy as np\n",
    "numeric_data = numeric_data.values"
   ]
  },
  {
   "cell_type": "code",
   "execution_count": 26,
   "metadata": {},
   "outputs": [
    {
     "data": {
      "text/plain": [
       "array([[48, 1, 'INNER_CITY', 17546.0, 0, 1, 0, 0, 0, 0, 1],\n",
       "       [40, 0, 'TOWN', 30085.1, 1, 3, 1, 0, 1, 1, 0],\n",
       "       [51, 1, 'INNER_CITY', 16575.4, 1, 0, 1, 1, 1, 0, 0],\n",
       "       [23, 1, 'TOWN', 20375.4, 1, 3, 0, 0, 1, 0, 0],\n",
       "       [57, 1, 'RURAL', 50576.3, 1, 0, 0, 1, 0, 0, 0]], dtype=object)"
      ]
     },
     "execution_count": 26,
     "metadata": {},
     "output_type": "execute_result"
    }
   ],
   "source": [
    "numeric_data[0:5]"
   ]
  },
  {
   "cell_type": "markdown",
   "metadata": {},
   "source": [
    "Region (categorical attribute) to binary - one attribute-per-value approach!"
   ]
  },
  {
   "cell_type": "code",
   "execution_count": 27,
   "metadata": {},
   "outputs": [],
   "source": [
    "features = np.zeros((len(numeric_data),4))\n",
    "numeric_data = np.append(numeric_data,features,1)\n",
    "j = 2\n",
    "for i in range(len(numeric_data)):\n",
    "    if numeric_data[i][j] == 'INNER_CITY':\n",
    "        numeric_data[i][11:15] = [1,0,0,0]\n",
    "    if numeric_data[i][j] == 'TOWN':\n",
    "         numeric_data[i][11:15] = [0,1,0,0]\n",
    "    if numeric_data[i][j] == 'RURAL':\n",
    "         numeric_data[i][11:15] = [0,0,1,0]\n",
    "    if numeric_data[i][j] == 'SUBURBAN':\n",
    "         numeric_data[i][11:15] = [0,0,0,1]        \n",
    "#remove redundant column\n",
    "numeric_data = np.delete(numeric_data, 2, 1)"
   ]
  },
  {
   "cell_type": "code",
   "execution_count": 28,
   "metadata": {},
   "outputs": [
    {
     "data": {
      "text/plain": [
       "array([[48, 1, 17546.0, 0, 1, 0, 0, 0, 0, 1, 1, 0, 0, 0],\n",
       "       [40, 0, 30085.1, 1, 3, 1, 0, 1, 1, 0, 0, 1, 0, 0],\n",
       "       [51, 1, 16575.4, 1, 0, 1, 1, 1, 0, 0, 1, 0, 0, 0],\n",
       "       [23, 1, 20375.4, 1, 3, 0, 0, 1, 0, 0, 0, 1, 0, 0],\n",
       "       [57, 1, 50576.3, 1, 0, 0, 1, 0, 0, 0, 0, 0, 1, 0]], dtype=object)"
      ]
     },
     "execution_count": 28,
     "metadata": {},
     "output_type": "execute_result"
    }
   ],
   "source": [
    "numeric_data[0:5]"
   ]
  },
  {
   "cell_type": "code",
   "execution_count": 29,
   "metadata": {},
   "outputs": [
    {
     "data": {
      "text/plain": [
       "array([[4.80000e+01, 1.00000e+00, 1.75460e+04, ..., 0.00000e+00,\n",
       "        0.00000e+00, 0.00000e+00],\n",
       "       [4.00000e+01, 0.00000e+00, 3.00851e+04, ..., 1.00000e+00,\n",
       "        0.00000e+00, 0.00000e+00],\n",
       "       [5.10000e+01, 1.00000e+00, 1.65754e+04, ..., 0.00000e+00,\n",
       "        0.00000e+00, 0.00000e+00],\n",
       "       ...,\n",
       "       [3.10000e+01, 1.00000e+00, 1.59763e+04, ..., 1.00000e+00,\n",
       "        0.00000e+00, 0.00000e+00],\n",
       "       [2.90000e+01, 0.00000e+00, 1.47118e+04, ..., 0.00000e+00,\n",
       "        0.00000e+00, 0.00000e+00],\n",
       "       [3.80000e+01, 0.00000e+00, 2.66716e+04, ..., 1.00000e+00,\n",
       "        0.00000e+00, 0.00000e+00]])"
      ]
     },
     "execution_count": 29,
     "metadata": {},
     "output_type": "execute_result"
    }
   ],
   "source": [
    "numeric_data.astype(float)"
   ]
  },
  {
   "cell_type": "code",
   "execution_count": 30,
   "metadata": {},
   "outputs": [
    {
     "data": {
      "text/plain": [
       "(600, 14)"
      ]
     },
     "execution_count": 30,
     "metadata": {},
     "output_type": "execute_result"
    }
   ],
   "source": [
    "numeric_data.shape"
   ]
  },
  {
   "cell_type": "markdown",
   "metadata": {},
   "source": [
    "#### How Scikit-learn works in general?"
   ]
  },
  {
   "cell_type": "code",
   "execution_count": 31,
   "metadata": {},
   "outputs": [
    {
     "name": "stderr",
     "output_type": "stream",
     "text": [
      "C:\\Users\\trinh\\Anaconda3\\lib\\site-packages\\IPython\\core\\display.py:694: UserWarning: Consider using IPython.display.IFrame instead\n",
      "  warnings.warn(\"Consider using IPython.display.IFrame instead\")\n"
     ]
    },
    {
     "data": {
      "text/html": [
       "<iframe src=http://scikit-learn.org/stable/ width=1000 height=400></iframe>"
      ],
      "text/plain": [
       "<IPython.core.display.HTML object>"
      ]
     },
     "execution_count": 31,
     "metadata": {},
     "output_type": "execute_result"
    }
   ],
   "source": [
    "from IPython.core.display import Image, display\n",
    "from IPython.core.display import HTML\n",
    "HTML('<iframe src=http://scikit-learn.org/stable/ width=1000 height=400></iframe>')"
   ]
  },
  {
   "cell_type": "markdown",
   "metadata": {},
   "source": [
    "Scikit-learn cheat sheet"
   ]
  },
  {
   "cell_type": "code",
   "execution_count": 32,
   "metadata": {},
   "outputs": [
    {
     "data": {
      "text/html": [
       "<iframe src=https://s3.amazonaws.com/assets.datacamp.com/blog_assets/Scikit_Learn_Cheat_Sheet_Python.pdf width=1000 height=400></iframe>"
      ],
      "text/plain": [
       "<IPython.core.display.HTML object>"
      ]
     },
     "execution_count": 32,
     "metadata": {},
     "output_type": "execute_result"
    }
   ],
   "source": [
    "HTML('<iframe src=https://s3.amazonaws.com/assets.datacamp.com/blog_assets/Scikit_Learn_Cheat_Sheet_Python.pdf width=1000 height=400></iframe>')"
   ]
  },
  {
   "cell_type": "markdown",
   "metadata": {},
   "source": [
    "Machine learning with sci-kit learn\n",
    "\n",
    "1. What is the model?\n",
    "```python\n",
    "clf = LogisticRegression()\n",
    "```\n",
    "\n",
    "2. Fit the model!\n",
    "```python\n",
    "clf.fit(X_train, y_train)\n",
    "```\n",
    "\n",
    "3. Use the model for prediction!\n",
    "```python\n",
    "clf.predict(X_test)\n",
    "```"
   ]
  },
  {
   "cell_type": "markdown",
   "metadata": {},
   "source": [
    "**Preparing the label and the other attributes!**"
   ]
  },
  {
   "cell_type": "markdown",
   "metadata": {},
   "source": [
    "Our aim is to predict the PEP value (column idx = 9)"
   ]
  },
  {
   "cell_type": "code",
   "execution_count": 33,
   "metadata": {},
   "outputs": [],
   "source": [
    "bank_labels = numeric_data[:, 9].astype(int)"
   ]
  },
  {
   "cell_type": "code",
   "execution_count": 34,
   "metadata": {},
   "outputs": [],
   "source": [
    "bank_attrs  = np.delete(numeric_data, 9, 1)"
   ]
  },
  {
   "cell_type": "code",
   "execution_count": 35,
   "metadata": {},
   "outputs": [
    {
     "data": {
      "text/plain": [
       "(600, 13)"
      ]
     },
     "execution_count": 35,
     "metadata": {},
     "output_type": "execute_result"
    }
   ],
   "source": [
    "bank_attrs.shape"
   ]
  },
  {
   "cell_type": "markdown",
   "metadata": {},
   "source": [
    "We need the following:"
   ]
  },
  {
   "cell_type": "code",
   "execution_count": 36,
   "metadata": {},
   "outputs": [],
   "source": [
    "from sklearn.neighbors import KNeighborsClassifier\n",
    "from sklearn import metrics\n",
    "from sklearn.model_selection import train_test_split"
   ]
  },
  {
   "cell_type": "markdown",
   "metadata": {},
   "source": [
    "**Splitting the data to train and test data**"
   ]
  },
  {
   "cell_type": "code",
   "execution_count": 37,
   "metadata": {},
   "outputs": [],
   "source": [
    "bank_features_train, bank_features_test, bank_labels_train, bank_labels_test = train_test_split(bank_attrs, bank_labels, test_size=0.33, random_state=42)"
   ]
  },
  {
   "cell_type": "markdown",
   "metadata": {},
   "source": [
    "**\"Fitting\" (kNN)** "
   ]
  },
  {
   "cell_type": "code",
   "execution_count": 38,
   "metadata": {},
   "outputs": [
    {
     "data": {
      "text/plain": [
       "KNeighborsClassifier(algorithm='auto', leaf_size=30, metric='euclidean',\n",
       "                     metric_params=None, n_jobs=None, n_neighbors=11, p=2,\n",
       "                     weights='uniform')"
      ]
     },
     "execution_count": 38,
     "metadata": {},
     "output_type": "execute_result"
    }
   ],
   "source": [
    "neigh = KNeighborsClassifier(n_neighbors=11,metric=\"euclidean\")\n",
    "neigh.fit(bank_features_train,bank_labels_train)"
   ]
  },
  {
   "cell_type": "markdown",
   "metadata": {},
   "source": [
    "**Prediction**"
   ]
  },
  {
   "cell_type": "code",
   "execution_count": 39,
   "metadata": {},
   "outputs": [],
   "source": [
    "predictions_test = neigh.predict(bank_features_test)"
   ]
  },
  {
   "cell_type": "code",
   "execution_count": 40,
   "metadata": {},
   "outputs": [
    {
     "data": {
      "text/plain": [
       "array([1, 0, 0, 1, 1, 0, 1, 1, 0, 0])"
      ]
     },
     "execution_count": 40,
     "metadata": {},
     "output_type": "execute_result"
    }
   ],
   "source": [
    "predictions_test[0:10]"
   ]
  },
  {
   "cell_type": "markdown",
   "metadata": {},
   "source": [
    "**Evaluation**"
   ]
  },
  {
   "cell_type": "code",
   "execution_count": 41,
   "metadata": {},
   "outputs": [
    {
     "name": "stdout",
     "output_type": "stream",
     "text": [
      "[[70 28]\n",
      " [67 33]]\n"
     ]
    }
   ],
   "source": [
    "cm = metrics.confusion_matrix(bank_labels_test,predictions_test)\n",
    "print(cm)"
   ]
  },
  {
   "cell_type": "markdown",
   "metadata": {},
   "source": [
    "**Precision, Recall, Accuaracy**"
   ]
  },
  {
   "cell_type": "code",
   "execution_count": 42,
   "metadata": {},
   "outputs": [
    {
     "name": "stdout",
     "output_type": "stream",
     "text": [
      "Precision:  0.5409836065573771\n",
      "Recall:  0.33\n",
      "Accuracy:  0.5202020202020202\n"
     ]
    }
   ],
   "source": [
    "print(\"Precision: \", metrics.precision_score(bank_labels_test,predictions_test))\n",
    "print(\"Recall: \", metrics.recall_score(bank_labels_test,predictions_test))\n",
    "print(\"Accuracy: \", metrics.accuracy_score(bank_labels_test,predictions_test))"
   ]
  },
  {
   "cell_type": "markdown",
   "metadata": {},
   "source": [
    "**ROC, AUC on a small example**"
   ]
  },
  {
   "cell_type": "code",
   "execution_count": 43,
   "metadata": {},
   "outputs": [],
   "source": [
    "y_true = [1,0,1,0,0,0,1,0,1,1]\n",
    "y_score = [0.25,0.43,0.53,0.76,0.85,0.85,0.85,0.87,0.93,0.95]\n",
    "fpr, tpr, thresholds = metrics.roc_curve(y_true, y_score, pos_label=1, sample_weight=None)"
   ]
  },
  {
   "cell_type": "code",
   "execution_count": 44,
   "metadata": {},
   "outputs": [
    {
     "data": {
      "text/plain": [
       "(0, 1)"
      ]
     },
     "execution_count": 44,
     "metadata": {},
     "output_type": "execute_result"
    },
    {
     "data": {
      "image/png": "[encoded data removed]",
      "text/plain": [
       "<Figure size 360x360 with 1 Axes>"
      ]
     },
     "metadata": {
      "needs_background": "light"
     },
     "output_type": "display_data"
    }
   ],
   "source": [
    "import matplotlib\n",
    "import matplotlib.pyplot as plt\n",
    "%matplotlib inline  \n",
    "plt.figure(figsize=(5,5))\n",
    "plt.plot(fpr,tpr,linewidth=2.0)\n",
    "plt.xlabel('False positive rate')\n",
    "plt.ylabel('True positive rate')\n",
    "plt.xlim([0,1])\n",
    "plt.ylim([0,1])"
   ]
  },
  {
   "cell_type": "code",
   "execution_count": 45,
   "metadata": {},
   "outputs": [
    {
     "data": {
      "text/plain": [
       "0.56"
      ]
     },
     "execution_count": 45,
     "metadata": {},
     "output_type": "execute_result"
    }
   ],
   "source": [
    "metrics.roc_auc_score(y_true, y_score)"
   ]
  },
  {
   "cell_type": "markdown",
   "metadata": {},
   "source": [
    "**ROC and AUC on Bank dataset**"
   ]
  },
  {
   "cell_type": "markdown",
   "metadata": {},
   "source": [
    "First we need the scores!"
   ]
  },
  {
   "cell_type": "code",
   "execution_count": 46,
   "metadata": {},
   "outputs": [
    {
     "data": {
      "text/plain": [
       "array([[0.36363636, 0.63636364],\n",
       "       [0.72727273, 0.27272727],\n",
       "       [0.81818182, 0.18181818],\n",
       "       [0.36363636, 0.63636364],\n",
       "       [0.        , 1.        ]])"
      ]
     },
     "execution_count": 46,
     "metadata": {},
     "output_type": "execute_result"
    }
   ],
   "source": [
    "knn_prob = neigh.predict_proba(bank_features_test)\n",
    "knn_prob[0:5]"
   ]
  },
  {
   "cell_type": "code",
   "execution_count": 47,
   "metadata": {},
   "outputs": [],
   "source": [
    "fpr, tpr, thresholds = metrics.roc_curve(bank_labels_test, knn_prob[:,1], pos_label=1, sample_weight=None)"
   ]
  },
  {
   "cell_type": "code",
   "execution_count": 48,
   "metadata": {},
   "outputs": [
    {
     "data": {
      "text/plain": [
       "(0, 1)"
      ]
     },
     "execution_count": 48,
     "metadata": {},
     "output_type": "execute_result"
    },
    {
     "data": {
      "image/png": "[encoded data removed]",
      "text/plain": [
       "<Figure size 360x360 with 1 Axes>"
      ]
     },
     "metadata": {
      "needs_background": "light"
     },
     "output_type": "display_data"
    }
   ],
   "source": [
    "plt.figure(figsize=(5,5))\n",
    "plt.plot(fpr,tpr,linewidth=2.0)\n",
    "plt.xlabel('False positive rate')\n",
    "plt.ylabel('True positive rate')\n",
    "plt.xlim([0,1])\n",
    "plt.ylim([0,1])"
   ]
  },
  {
   "cell_type": "code",
   "execution_count": 49,
   "metadata": {},
   "outputs": [
    {
     "data": {
      "text/plain": [
       "0.5680102040816326"
      ]
     },
     "execution_count": 49,
     "metadata": {},
     "output_type": "execute_result"
    }
   ],
   "source": [
    "metrics.roc_auc_score(bank_labels_test,knn_prob[:,1], average='macro', sample_weight=None)"
   ]
  },
  {
   "cell_type": "markdown",
   "metadata": {},
   "source": [
    "Well, quite bad... :("
   ]
  },
  {
   "cell_type": "markdown",
   "metadata": {},
   "source": [
    "Maybe decision tree classifier will lead us to a better result, try it out! ==> **HW2/2**"
   ]
  }
 ],
 "metadata": {
  "kernelspec": {
   "display_name": "Python 3",
   "language": "python",
   "name": "python3"
  },
  "language_info": {
   "codemirror_mode": {
    "name": "ipython",
    "version": 3
   },
   "file_extension": ".py",
   "mimetype": "text/x-python",
   "name": "python",
   "nbconvert_exporter": "python",
   "pygments_lexer": "ipython3",
   "version": "3.7.4"
  }
 },
 "nbformat": 4,
 "nbformat_minor": 2
}
