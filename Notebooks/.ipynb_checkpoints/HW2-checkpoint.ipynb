{
 "cells": [
  {
   "cell_type": "markdown",
   "metadata": {},
   "source": [
    "#  Homework 2 (HW2)\n",
    "\n",
    "Deadline: March 12th Midnight\n",
    "\n",
    "Hand in: the homework must be handed in through the Moodle system. \n",
    "\n",
    "Provide a written answer if requested in the exercise!"
   ]
  },
  {
   "cell_type": "markdown",
   "metadata": {},
   "source": [
    "---"
   ]
  },
  {
   "cell_type": "markdown",
   "metadata": {},
   "source": [
    "## Exercise 1 (HW2/1)"
   ]
  },
  {
   "cell_type": "markdown",
   "metadata": {},
   "source": [
    "In this exercise we will examine the data of this year's Women's Soccer World Cup using the API and JSON files created for it ⚽ (65%). "
   ]
  },
  {
   "cell_type": "markdown",
   "metadata": {},
   "source": [
    "\n",
    "**a)** Importing the data: \n",
    "* As in class, use the *urllib* and *json* packages to import the JSON file containing the matches' data from http://worldcup.sfg.io/matches. This file was created using the World Cup API: http://worldcup.sfg.io/\n",
    "* After importing the packages and data, retrieve the number of matches played in the Wolrd Cup.  "
   ]
  },
  {
   "cell_type": "markdown",
   "metadata": {},
   "source": [
    "**b)** Present the results of all the matches using the following format:\n",
    "\n",
    "country1 - country2 goal1:goal2 (For Example: France - Korea 4:0) "
   ]
  },
  {
   "cell_type": "markdown",
   "metadata": {},
   "source": [
    "**c)** DataFrame creation: \n",
    "\n",
    "* Using the data create a *pandas* *DataFrame*. Set its rows to be the matches played and its columns to be the following:  *'fifa_id', 'location', 'datetime', 'home_team_country', 'away_team_country', 'winner', 'home_team_statistics', 'away_team_statistics'*.\n",
    "* Decompose the *datetime* column into two separate columns: one containing the day when the match was played, the other containing the time of the day the match started at in format (hours, minutes). \n",
    "\n",
    "(Hint: Use the *pd.DatetimeIndex* function and look for the corresponding attribute!)"
   ]
  },
  {
   "cell_type": "markdown",
   "metadata": {},
   "source": [
    "**d)** How many matches where played in each stadium? Present the results in a pie chart!"
   ]
  },
  {
   "cell_type": "markdown",
   "metadata": {},
   "source": [
    "**e)** Present a scatterplot of the *attempts* on goal against the *possession* and colour the data points according to the *pass_accuracy* for the matches and teams in the world cup.<br> \n",
    "\n",
    "(Hint: use the [*scatterplot*](https://seaborn.pydata.org/generated/seaborn.scatterplot.html) function from the *seaborn* package )\n",
    "\n",
    "<br> Interpret the results, what can you conclude from the plot? "
   ]
  },
  {
   "cell_type": "markdown",
   "metadata": {},
   "source": [
    "---"
   ]
  },
  {
   "cell_type": "markdown",
   "metadata": {},
   "source": [
    "## Exercise 2 (HW2/2)"
   ]
  },
  {
   "cell_type": "markdown",
   "metadata": {},
   "source": [
    "Let's improve on the model used in class: decision tree on the bank dataset (35%) "
   ]
  },
  {
   "cell_type": "markdown",
   "metadata": {},
   "source": [
    "**a)** In class we solved a classification problem on the *bank.csv* dataset using the kNN algorithm. The classifier performed poorly. Repeat the analysis carried out in class (based on the Notebook02), but now use a decision tree, set the maximum depth to be 6! <br>\n",
    "(Hint: Use the *tree.DecisionTreeClassifier* classifier!)\n"
   ]
  },
  {
   "cell_type": "markdown",
   "metadata": {},
   "source": [
    "**b)** Now fit the tree using different parameters! Plot the ROC curve of the decision tree obtained in part a) and the new tree in the same figure (with different colors). Also plot the *y=x* diagonal line!"
   ]
  },
  {
   "cell_type": "markdown",
   "metadata": {},
   "source": [
    "**c)** Plotting and interpreting the decision tree: \n",
    "\n",
    "* Visualize the decision tree trained in part a) using the *tree.export_graphviz* function. To present the tree use the *graphviz.Source* function or the *SVG* function of the *Ipython.display* package! <br>\n",
    "(Hint: If *graphviz* is not installed you can install it using the Anaconda Navigator or by using *pip install*. If it doesn't seem to work you can also download it from this [link](https://graphviz.gitlab.io/download/) and inserting the following lines of codes (insert the right path):<br>\n",
    "import os <br>\n",
    "os.environ[\"PATH\"] += os.pathsep + 'C:/Program Files (x86)/Graphviz2.38/bin') <br>\n",
    "\n",
    "* According to what attribute did we split the tree first? Which where the usual splitting attributes? Briefly interpret the results!"
   ]
  }
 ],
 "metadata": {
  "kernelspec": {
   "display_name": "Python 3",
   "language": "python",
   "name": "python3"
  },
  "language_info": {
   "codemirror_mode": {
    "name": "ipython",
    "version": 3
   },
   "file_extension": ".py",
   "mimetype": "text/x-python",
   "name": "python",
   "nbconvert_exporter": "python",
   "pygments_lexer": "ipython3",
   "version": "3.7.4"
  }
 },
 "nbformat": 4,
 "nbformat_minor": 2
}
